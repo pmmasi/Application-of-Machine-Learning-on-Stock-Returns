{
 "cells": [
  {
   "cell_type": "markdown",
   "metadata": {},
   "source": [
    "\n",
    "Machine Learning for Finance  \n",
    "VU Amsterdam    \n",
    "\n",
    "**Instructors**  \n",
    "Iman van Lelyveld (iman.van.lelyveld@vu.nl)<br/>\n",
    "Dieter Wang (d.wang@vu.nl)  \n",
    "\n",
    "This project is divided into two sections. Part I is about applying machine learning methods to examine stock returns in various ways. Each question has a technical part (e.g. data-processing, model fitting) and a comprehension part (e.g. explaining your choices, discussing results). While the technical parts are necessary, we value the comprehension part more. Part II is about your general understanding of machine learning, what pitfalls there are and what the challenges machine learning applications may face in the real world. \n",
    "\n",
    "**Expectations and general advice**\n",
    "* Ensure that your notebook runs error-free.\n",
    "* Only present the necessary code and results.\n",
    "* Keep your discussions and explanations short and to the point. Very long answers usually hurt more than they help.\n",
    "* Present visualizations when they are asked for. If you want to include more, make sure they add to your answer.\n",
    "* All data needed is contained in the `data` folder. \n",
    "* Relevant literature is contained in `literature`. It's useful to refer to them but you are not expected to incorporate them into your answers.\n",
    "\n",
    "<div style='text-align: center; font-weight: bold; padding-top:30px;'>Good luck!</div>\n",
    "\n",
    "----"
   ]
  },
  {
   "cell_type": "markdown",
   "metadata": {},
   "source": [
    "<div style=\"font-size:250%; line-height:120%; padding: 50px 0 20px 0; border-bottom: 4px solid black;\">\n",
    "    Part I: Putting machine learning to use\n",
    "</div>\n",
    "\n",
    "# Question 1 [10P]\n",
    "\n",
    "Load the following data files\n",
    "* `company.csv` (in `company.zip`, you can unzip it manually beforehand) and call it `df_features`.\n",
    "Column 1 (`permno`) is the unique company identifier.  \n",
    "Column 2 (`date`) is the unique date identifier.  \n",
    "Column 3-95 are the 93 lagged firm characteristics.  \n",
    "\n",
    "We will refer to these as $X_{it}$. For more information, have a look at Green, Hand, Zhang (2017), in the literature folder.\n",
    "\n",
    "* `selected-returns.csv` and call it `df_returns`  \n",
    "Column 1 (`permno`) is the unique company identifier.  \n",
    "Column 2 (`date`) is the unique date identifier.  \n",
    "Column 3 (`RET`) is the [Holding Period Return](https://wrds-web.wharton.upenn.edu/wrds/query_forms/variable_documentation.cfm?vendorCode=CRSP&libraryCode=crspa&fileCode=msf&id=ret)  \n",
    "\n",
    "We will refer to these as $r_{it}$  \n",
    "\n",
    "The main question you need to answer is: Which companies do you use?\n",
    "Several factors will determine your decision. \n",
    "\n",
    "* You'll notice, that there are many more companies in `df_features` than in `df_returns`. \n",
    "* Avoid dropping characteristics from `df_features` and try to use as many as possible. \n",
    "\n",
    "Keep in mind that your selection determines the remainder of the programming questions. \n",
    "\n",
    "----\n",
    "\n",
    "**a)**\n",
    "First focus on `df_returns`. Give a graphical overview of how many company returns are available (=not missing) over time. Which companies do you decide for? Does your choice induce any biases?\n",
    "\n",
    "**b)**\n",
    "Next, make yourself familiar with `df_features`. Replace the missing values of a variable with its cross-sectional median. That is, for each variable and at each point in time, replace missing values with the median of available values. \n",
    "\n",
    "**c)**\n",
    "Select those companies and dates that are available in both `df_returns` and `df_features`. \n",
    "\n",
    "----\n",
    "\n",
    "**Hints**  \n",
    "There are several ways for you to solve this question. Using loops or other methods you come with is perfectly fine. However, it does pay to look at the following pandas functions in more detail. \n",
    "* `pd.set_index()`\n",
    "* `pd.groupby()`\n",
    "* `pd.stack()` and `pd.unstack()`\n",
    "* `pd.isna()` and `pd.notna()`\n",
    "* `pd.resample()` (could be relevant for Question 5...)"
   ]
  },
  {
   "cell_type": "markdown",
   "metadata": {},
   "source": [
    "<div style=\"color:blue; border-bottom: 7px solid rgba(0,0,255,.3); line-height:36pt; font-size:185.7%; font-weight:bold; padding-left:.3em;\">Answer</div>"
   ]
  },
  {
   "cell_type": "code",
   "execution_count": 1,
   "metadata": {},
   "outputs": [],
   "source": [
    "#Import packages \n",
    "import numpy as np \n",
    "import pandas as pd \n",
    "import os\n",
    "import matplotlib.pyplot as plt"
   ]
  },
  {
   "cell_type": "code",
   "execution_count": 2,
   "metadata": {},
   "outputs": [],
   "source": [
    "#Import files.. \n",
    "path1 = os.path.join('data','df_features.csv')\n",
    "df_features = pd.read_csv(path1)\n",
    "df_features.head()\n",
    "df_features['date'] = pd.to_datetime(df_features['date'])\n",
    "path2 = os.path.join('data','df_returns.csv')\n",
    "df_returns = pd.read_csv(path2)\n",
    "df_returns ['date'] = pd.to_datetime(df_returns['date'])\n"
   ]
  },
  {
   "cell_type": "markdown",
   "metadata": {},
   "source": [
    " a) Graphical overview of available companies (not missing values overtime.. )\n"
   ]
  },
  {
   "cell_type": "markdown",
   "metadata": {},
   "source": [
    "My answer:\n",
    "This dataset is clearly an unbalanced dataset where several stocks have varying number of observations overtime. As seen on the following histograms, most stocks (roughly 147 of them) have 120 observations (10 years of data) and the remaining stocks have varying number of month/years. \n",
    "Unbalanced data can become a serious issue when dealing with a classification problem where for instance 99% of your data corresponds to class 1 and only 1% of data corresponds to class 2. In this case, when making predictions, the algorithm will only predict class 1 which is not ideal. \n",
    "\n",
    "In my case, the application relates to regression algorithms that predict a continuous value (stock returns) and although balanced data is generally more desirable, I can also work with unbalanced data when predicting continuous values. \n",
    "The criteria I used to select companies is that I considered stocks/companies that had at least 3 years of data or more (36 monthly observations). The other option would have been to only keep companies that have 10 years of data (balanced data), but I considered this option to be less optimal because I would lose too many stocks and thus, representativeness of the sample data would also be reduced and this would imply a significant survivorship bias. In addition, keeping all of the companies in the dataset would also induce survivorship bias and we would not be able to make asymptotic inferences (which requires an \"n\" of at least 30 or more) given that some companies only have 2 months of data.. \n",
    "I acknoledge that my choice of subsetting the companies that have three years of more of data represents a level of bias, but I do not consider this bias to be high enough to cause a significant effect on the predictions conducted on questions 2 to 5. "
   ]
  },
  {
   "cell_type": "code",
   "execution_count": 3,
   "metadata": {},
   "outputs": [
    {
     "data": {
      "text/plain": [
       "Text(0.5, 1.0, 'Overview of monthly observations for companies in dataset')"
      ]
     },
     "execution_count": 3,
     "metadata": {},
     "output_type": "execute_result"
    },
    {
     "data": {
      "image/png": "[encoded data removed]",
      "text/plain": [
       "<Figure size 432x288 with 1 Axes>"
      ]
     },
     "metadata": {
      "needs_background": "light"
     },
     "output_type": "display_data"
    }
   ],
   "source": [
    "#Months of data available per company\n",
    "df_ret_timecount = df_returns['permno'].value_counts()\n",
    "df_ret_timecount\n",
    "plt.hist(df_ret_timecount , bins = 10)\n",
    "plt.xlabel('Months of data available')\n",
    "plt.ylabel(\"# of Companies\")\n",
    "plt.title('Overview of monthly observations for companies in dataset')"
   ]
  },
  {
   "cell_type": "code",
   "execution_count": 4,
   "metadata": {},
   "outputs": [
    {
     "data": {
      "text/plain": [
       "Text(0.5, 1.0, 'Overview of yearly observations for companies in dataset')"
      ]
     },
     "execution_count": 4,
     "metadata": {},
     "output_type": "execute_result"
    },
    {
     "data": {
      "image/png": "[encoded data removed]",
      "text/plain": [
       "<Figure size 432x288 with 1 Axes>"
      ]
     },
     "metadata": {
      "needs_background": "light"
     },
     "output_type": "display_data"
    }
   ],
   "source": [
    "#Years of data available per company... \n",
    "df_ret_time_years = df_ret_timecount / 12 \n",
    "df_ret_time_years.head()\n",
    "#Years of data available per company\n",
    "plt.hist(df_ret_time_years , bins = 15)\n",
    "plt.xlabel('Years of data available')\n",
    "plt.ylabel(\"# of Companies\")\n",
    "plt.title('Overview of yearly observations for companies in dataset')"
   ]
  },
  {
   "cell_type": "markdown",
   "metadata": {},
   "source": [
    "b) Replace the missing values of a variable with its cross-sectional median. That is, for each variable and at each point in time, replace missing values with the median of available values.\n"
   ]
  },
  {
   "cell_type": "code",
   "execution_count": 5,
   "metadata": {},
   "outputs": [
    {
     "data": {
      "text/plain": [
       "permno           0\n",
       "date             0\n",
       "mvel1           20\n",
       "beta          6262\n",
       "betasq        6262\n",
       "              ... \n",
       "maxret           3\n",
       "retvol          45\n",
       "std_dolvol      96\n",
       "std_turn        20\n",
       "zerotrade       27\n",
       "Length: 95, dtype: int64"
      ]
     },
     "execution_count": 5,
     "metadata": {},
     "output_type": "execute_result"
    }
   ],
   "source": [
    "#Evaluating missing values for each feature of the non-imputed dataset...... \n",
    "df_features.isna().sum()"
   ]
  },
  {
   "cell_type": "code",
   "execution_count": 3,
   "metadata": {},
   "outputs": [
    {
     "data": {
      "text/html": [
       "<div>\n",
       "<style scoped>\n",
       "    .dataframe tbody tr th:only-of-type {\n",
       "        vertical-align: middle;\n",
       "    }\n",
       "\n",
       "    .dataframe tbody tr th {\n",
       "        vertical-align: top;\n",
       "    }\n",
       "\n",
       "    .dataframe thead th {\n",
       "        text-align: right;\n",
       "    }\n",
       "</style>\n",
       "<table border=\"1\" class=\"dataframe\">\n",
       "  <thead>\n",
       "    <tr style=\"text-align: right;\">\n",
       "      <th></th>\n",
       "      <th>permno</th>\n",
       "      <th>date</th>\n",
       "      <th>mvel1</th>\n",
       "      <th>beta</th>\n",
       "      <th>betasq</th>\n",
       "      <th>chmom</th>\n",
       "      <th>dolvol</th>\n",
       "      <th>idiovol</th>\n",
       "      <th>indmom</th>\n",
       "      <th>mom1m</th>\n",
       "      <th>...</th>\n",
       "      <th>stdacc</th>\n",
       "      <th>stdcf</th>\n",
       "      <th>ms</th>\n",
       "      <th>baspread</th>\n",
       "      <th>ill</th>\n",
       "      <th>maxret</th>\n",
       "      <th>retvol</th>\n",
       "      <th>std_dolvol</th>\n",
       "      <th>std_turn</th>\n",
       "      <th>zerotrade</th>\n",
       "    </tr>\n",
       "  </thead>\n",
       "  <tbody>\n",
       "    <tr>\n",
       "      <th>0</th>\n",
       "      <td>10080</td>\n",
       "      <td>2000-01-31</td>\n",
       "      <td>2868.0</td>\n",
       "      <td>-0.073811</td>\n",
       "      <td>0.020791</td>\n",
       "      <td>-0.097727</td>\n",
       "      <td>3.065142</td>\n",
       "      <td>0.068324</td>\n",
       "      <td>-0.097056</td>\n",
       "      <td>-0.020408</td>\n",
       "      <td>...</td>\n",
       "      <td>NaN</td>\n",
       "      <td>NaN</td>\n",
       "      <td>NaN</td>\n",
       "      <td>0.051729</td>\n",
       "      <td>0.000017</td>\n",
       "      <td>0.136364</td>\n",
       "      <td>0.042418</td>\n",
       "      <td>1.382123</td>\n",
       "      <td>2.053254</td>\n",
       "      <td>1.336364e+01</td>\n",
       "    </tr>\n",
       "    <tr>\n",
       "      <th>1</th>\n",
       "      <td>10080</td>\n",
       "      <td>2000-02-29</td>\n",
       "      <td>4541.0</td>\n",
       "      <td>-0.081841</td>\n",
       "      <td>0.017610</td>\n",
       "      <td>0.483402</td>\n",
       "      <td>6.348264</td>\n",
       "      <td>0.068271</td>\n",
       "      <td>0.002209</td>\n",
       "      <td>0.583333</td>\n",
       "      <td>...</td>\n",
       "      <td>NaN</td>\n",
       "      <td>NaN</td>\n",
       "      <td>NaN</td>\n",
       "      <td>0.181881</td>\n",
       "      <td>0.000014</td>\n",
       "      <td>0.444444</td>\n",
       "      <td>0.127924</td>\n",
       "      <td>1.801642</td>\n",
       "      <td>24.497492</td>\n",
       "      <td>8.400000e+00</td>\n",
       "    </tr>\n",
       "    <tr>\n",
       "      <th>2</th>\n",
       "      <td>10080</td>\n",
       "      <td>2000-03-31</td>\n",
       "      <td>3107.0</td>\n",
       "      <td>0.104741</td>\n",
       "      <td>0.010971</td>\n",
       "      <td>-0.018970</td>\n",
       "      <td>8.959376</td>\n",
       "      <td>0.076380</td>\n",
       "      <td>0.147039</td>\n",
       "      <td>-0.315789</td>\n",
       "      <td>...</td>\n",
       "      <td>NaN</td>\n",
       "      <td>NaN</td>\n",
       "      <td>NaN</td>\n",
       "      <td>0.106763</td>\n",
       "      <td>0.000024</td>\n",
       "      <td>0.217391</td>\n",
       "      <td>0.095731</td>\n",
       "      <td>1.007548</td>\n",
       "      <td>2.234800</td>\n",
       "      <td>3.150000e+00</td>\n",
       "    </tr>\n",
       "    <tr>\n",
       "      <th>3</th>\n",
       "      <td>10080</td>\n",
       "      <td>2000-04-28</td>\n",
       "      <td>2868.0</td>\n",
       "      <td>0.012597</td>\n",
       "      <td>0.000159</td>\n",
       "      <td>-0.108316</td>\n",
       "      <td>7.116191</td>\n",
       "      <td>0.080496</td>\n",
       "      <td>0.310041</td>\n",
       "      <td>-0.076923</td>\n",
       "      <td>...</td>\n",
       "      <td>NaN</td>\n",
       "      <td>NaN</td>\n",
       "      <td>NaN</td>\n",
       "      <td>0.193484</td>\n",
       "      <td>0.000025</td>\n",
       "      <td>0.600000</td>\n",
       "      <td>0.170228</td>\n",
       "      <td>1.714707</td>\n",
       "      <td>24.415433</td>\n",
       "      <td>9.130435e-01</td>\n",
       "    </tr>\n",
       "    <tr>\n",
       "      <th>4</th>\n",
       "      <td>10080</td>\n",
       "      <td>2000-05-31</td>\n",
       "      <td>3226.5</td>\n",
       "      <td>0.162976</td>\n",
       "      <td>0.026561</td>\n",
       "      <td>0.140756</td>\n",
       "      <td>8.779481</td>\n",
       "      <td>0.137188</td>\n",
       "      <td>0.249398</td>\n",
       "      <td>0.125000</td>\n",
       "      <td>...</td>\n",
       "      <td>0.073539</td>\n",
       "      <td>0.075737</td>\n",
       "      <td>2.0</td>\n",
       "      <td>0.116561</td>\n",
       "      <td>0.000019</td>\n",
       "      <td>0.230769</td>\n",
       "      <td>0.109373</td>\n",
       "      <td>1.121564</td>\n",
       "      <td>7.291179</td>\n",
       "      <td>2.930000e-08</td>\n",
       "    </tr>\n",
       "  </tbody>\n",
       "</table>\n",
       "<p>5 rows × 95 columns</p>\n",
       "</div>"
      ],
      "text/plain": [
       "   permno       date   mvel1      beta    betasq     chmom    dolvol  \\\n",
       "0   10080 2000-01-31  2868.0 -0.073811  0.020791 -0.097727  3.065142   \n",
       "1   10080 2000-02-29  4541.0 -0.081841  0.017610  0.483402  6.348264   \n",
       "2   10080 2000-03-31  3107.0  0.104741  0.010971 -0.018970  8.959376   \n",
       "3   10080 2000-04-28  2868.0  0.012597  0.000159 -0.108316  7.116191   \n",
       "4   10080 2000-05-31  3226.5  0.162976  0.026561  0.140756  8.779481   \n",
       "\n",
       "    idiovol    indmom     mom1m  ...    stdacc     stdcf   ms  baspread  \\\n",
       "0  0.068324 -0.097056 -0.020408  ...       NaN       NaN  NaN  0.051729   \n",
       "1  0.068271  0.002209  0.583333  ...       NaN       NaN  NaN  0.181881   \n",
       "2  0.076380  0.147039 -0.315789  ...       NaN       NaN  NaN  0.106763   \n",
       "3  0.080496  0.310041 -0.076923  ...       NaN       NaN  NaN  0.193484   \n",
       "4  0.137188  0.249398  0.125000  ...  0.073539  0.075737  2.0  0.116561   \n",
       "\n",
       "        ill    maxret    retvol  std_dolvol   std_turn     zerotrade  \n",
       "0  0.000017  0.136364  0.042418    1.382123   2.053254  1.336364e+01  \n",
       "1  0.000014  0.444444  0.127924    1.801642  24.497492  8.400000e+00  \n",
       "2  0.000024  0.217391  0.095731    1.007548   2.234800  3.150000e+00  \n",
       "3  0.000025  0.600000  0.170228    1.714707  24.415433  9.130435e-01  \n",
       "4  0.000019  0.230769  0.109373    1.121564   7.291179  2.930000e-08  \n",
       "\n",
       "[5 rows x 95 columns]"
      ]
     },
     "execution_count": 3,
     "metadata": {},
     "output_type": "execute_result"
    }
   ],
   "source": [
    "#Visualizing non-imputed dataset....\n",
    "df_features.head()"
   ]
  },
  {
   "cell_type": "code",
   "execution_count": 4,
   "metadata": {},
   "outputs": [
    {
     "data": {
      "text/plain": [
       "permno                 int64\n",
       "date          datetime64[ns]\n",
       "mvel1                float64\n",
       "beta                 float64\n",
       "betasq               float64\n",
       "                   ...      \n",
       "maxret               float64\n",
       "retvol               float64\n",
       "std_dolvol           float64\n",
       "std_turn             float64\n",
       "zerotrade            float64\n",
       "Length: 95, dtype: object"
      ]
     },
     "execution_count": 4,
     "metadata": {},
     "output_type": "execute_result"
    }
   ],
   "source": [
    "df_features.dtypes"
   ]
  },
  {
   "cell_type": "code",
   "execution_count": 7,
   "metadata": {},
   "outputs": [
    {
     "data": {
      "text/html": [
       "<div>\n",
       "<style scoped>\n",
       "    .dataframe tbody tr th:only-of-type {\n",
       "        vertical-align: middle;\n",
       "    }\n",
       "\n",
       "    .dataframe tbody tr th {\n",
       "        vertical-align: top;\n",
       "    }\n",
       "\n",
       "    .dataframe thead th {\n",
       "        text-align: right;\n",
       "    }\n",
       "</style>\n",
       "<table border=\"1\" class=\"dataframe\">\n",
       "  <thead>\n",
       "    <tr style=\"text-align: right;\">\n",
       "      <th></th>\n",
       "      <th>permno</th>\n",
       "      <th>date</th>\n",
       "      <th>mvel1</th>\n",
       "      <th>beta</th>\n",
       "      <th>betasq</th>\n",
       "      <th>chmom</th>\n",
       "      <th>dolvol</th>\n",
       "      <th>idiovol</th>\n",
       "      <th>indmom</th>\n",
       "      <th>mom1m</th>\n",
       "      <th>...</th>\n",
       "      <th>stdacc</th>\n",
       "      <th>stdcf</th>\n",
       "      <th>ms</th>\n",
       "      <th>baspread</th>\n",
       "      <th>ill</th>\n",
       "      <th>maxret</th>\n",
       "      <th>retvol</th>\n",
       "      <th>std_dolvol</th>\n",
       "      <th>std_turn</th>\n",
       "      <th>zerotrade</th>\n",
       "    </tr>\n",
       "  </thead>\n",
       "  <tbody>\n",
       "    <tr>\n",
       "      <th>0</th>\n",
       "      <td>10080</td>\n",
       "      <td>2000-01-31</td>\n",
       "      <td>2868.0</td>\n",
       "      <td>-0.073811</td>\n",
       "      <td>0.020791</td>\n",
       "      <td>-0.097727</td>\n",
       "      <td>3.065142</td>\n",
       "      <td>0.068324</td>\n",
       "      <td>-0.097056</td>\n",
       "      <td>-0.020408</td>\n",
       "      <td>...</td>\n",
       "      <td>0.154207</td>\n",
       "      <td>0.153024</td>\n",
       "      <td>4.0</td>\n",
       "      <td>0.051729</td>\n",
       "      <td>0.000017</td>\n",
       "      <td>0.136364</td>\n",
       "      <td>0.042418</td>\n",
       "      <td>1.382123</td>\n",
       "      <td>2.053254</td>\n",
       "      <td>1.336364e+01</td>\n",
       "    </tr>\n",
       "    <tr>\n",
       "      <th>1</th>\n",
       "      <td>10080</td>\n",
       "      <td>2000-02-29</td>\n",
       "      <td>4541.0</td>\n",
       "      <td>-0.081841</td>\n",
       "      <td>0.017610</td>\n",
       "      <td>0.483402</td>\n",
       "      <td>6.348264</td>\n",
       "      <td>0.068271</td>\n",
       "      <td>0.002209</td>\n",
       "      <td>0.583333</td>\n",
       "      <td>...</td>\n",
       "      <td>0.149610</td>\n",
       "      <td>0.149502</td>\n",
       "      <td>4.0</td>\n",
       "      <td>0.181881</td>\n",
       "      <td>0.000014</td>\n",
       "      <td>0.444444</td>\n",
       "      <td>0.127924</td>\n",
       "      <td>1.801642</td>\n",
       "      <td>24.497492</td>\n",
       "      <td>8.400000e+00</td>\n",
       "    </tr>\n",
       "    <tr>\n",
       "      <th>2</th>\n",
       "      <td>10080</td>\n",
       "      <td>2000-03-31</td>\n",
       "      <td>3107.0</td>\n",
       "      <td>0.104741</td>\n",
       "      <td>0.010971</td>\n",
       "      <td>-0.018970</td>\n",
       "      <td>8.959376</td>\n",
       "      <td>0.076380</td>\n",
       "      <td>0.147039</td>\n",
       "      <td>-0.315789</td>\n",
       "      <td>...</td>\n",
       "      <td>0.149846</td>\n",
       "      <td>0.151396</td>\n",
       "      <td>4.0</td>\n",
       "      <td>0.106763</td>\n",
       "      <td>0.000024</td>\n",
       "      <td>0.217391</td>\n",
       "      <td>0.095731</td>\n",
       "      <td>1.007548</td>\n",
       "      <td>2.234800</td>\n",
       "      <td>3.150000e+00</td>\n",
       "    </tr>\n",
       "    <tr>\n",
       "      <th>3</th>\n",
       "      <td>10080</td>\n",
       "      <td>2000-04-28</td>\n",
       "      <td>2868.0</td>\n",
       "      <td>0.012597</td>\n",
       "      <td>0.000159</td>\n",
       "      <td>-0.108316</td>\n",
       "      <td>7.116191</td>\n",
       "      <td>0.080496</td>\n",
       "      <td>0.310041</td>\n",
       "      <td>-0.076923</td>\n",
       "      <td>...</td>\n",
       "      <td>0.149998</td>\n",
       "      <td>0.148704</td>\n",
       "      <td>4.0</td>\n",
       "      <td>0.193484</td>\n",
       "      <td>0.000025</td>\n",
       "      <td>0.600000</td>\n",
       "      <td>0.170228</td>\n",
       "      <td>1.714707</td>\n",
       "      <td>24.415433</td>\n",
       "      <td>9.130435e-01</td>\n",
       "    </tr>\n",
       "    <tr>\n",
       "      <th>4</th>\n",
       "      <td>10080</td>\n",
       "      <td>2000-05-31</td>\n",
       "      <td>3226.5</td>\n",
       "      <td>0.162976</td>\n",
       "      <td>0.026561</td>\n",
       "      <td>0.140756</td>\n",
       "      <td>8.779481</td>\n",
       "      <td>0.137188</td>\n",
       "      <td>0.249398</td>\n",
       "      <td>0.125000</td>\n",
       "      <td>...</td>\n",
       "      <td>0.073539</td>\n",
       "      <td>0.075737</td>\n",
       "      <td>2.0</td>\n",
       "      <td>0.116561</td>\n",
       "      <td>0.000019</td>\n",
       "      <td>0.230769</td>\n",
       "      <td>0.109373</td>\n",
       "      <td>1.121564</td>\n",
       "      <td>7.291179</td>\n",
       "      <td>2.930000e-08</td>\n",
       "    </tr>\n",
       "  </tbody>\n",
       "</table>\n",
       "<p>5 rows × 95 columns</p>\n",
       "</div>"
      ],
      "text/plain": [
       "   permno       date   mvel1      beta    betasq     chmom    dolvol  \\\n",
       "0   10080 2000-01-31  2868.0 -0.073811  0.020791 -0.097727  3.065142   \n",
       "1   10080 2000-02-29  4541.0 -0.081841  0.017610  0.483402  6.348264   \n",
       "2   10080 2000-03-31  3107.0  0.104741  0.010971 -0.018970  8.959376   \n",
       "3   10080 2000-04-28  2868.0  0.012597  0.000159 -0.108316  7.116191   \n",
       "4   10080 2000-05-31  3226.5  0.162976  0.026561  0.140756  8.779481   \n",
       "\n",
       "    idiovol    indmom     mom1m  ...    stdacc     stdcf   ms  baspread  \\\n",
       "0  0.068324 -0.097056 -0.020408  ...  0.154207  0.153024  4.0  0.051729   \n",
       "1  0.068271  0.002209  0.583333  ...  0.149610  0.149502  4.0  0.181881   \n",
       "2  0.076380  0.147039 -0.315789  ...  0.149846  0.151396  4.0  0.106763   \n",
       "3  0.080496  0.310041 -0.076923  ...  0.149998  0.148704  4.0  0.193484   \n",
       "4  0.137188  0.249398  0.125000  ...  0.073539  0.075737  2.0  0.116561   \n",
       "\n",
       "        ill    maxret    retvol  std_dolvol   std_turn     zerotrade  \n",
       "0  0.000017  0.136364  0.042418    1.382123   2.053254  1.336364e+01  \n",
       "1  0.000014  0.444444  0.127924    1.801642  24.497492  8.400000e+00  \n",
       "2  0.000024  0.217391  0.095731    1.007548   2.234800  3.150000e+00  \n",
       "3  0.000025  0.600000  0.170228    1.714707  24.415433  9.130435e-01  \n",
       "4  0.000019  0.230769  0.109373    1.121564   7.291179  2.930000e-08  \n",
       "\n",
       "[5 rows x 95 columns]"
      ]
     },
     "execution_count": 7,
     "metadata": {},
     "output_type": "execute_result"
    }
   ],
   "source": [
    "#Imputing the cross-sectional median by grouping by date and filling feature values that don't have data with the median value.\n",
    "df_features_imp = df_features.fillna(df_features.groupby(\"date\").transform(\"median\"))\n",
    "#Visualizing cross-sectionally imputed dataset to check...\n",
    "df_features_imp.head()"
   ]
  },
  {
   "cell_type": "code",
   "execution_count": 8,
   "metadata": {},
   "outputs": [
    {
     "data": {
      "text/plain": [
       "permno        0\n",
       "date          0\n",
       "mvel1         0\n",
       "beta          0\n",
       "betasq        0\n",
       "             ..\n",
       "maxret        0\n",
       "retvol        0\n",
       "std_dolvol    0\n",
       "std_turn      0\n",
       "zerotrade     0\n",
       "Length: 95, dtype: int64"
      ]
     },
     "execution_count": 8,
     "metadata": {},
     "output_type": "execute_result"
    }
   ],
   "source": [
    "#Check the newly created dataframe (imputed) and ensure no values are longer missing... \n",
    "df_features_imp.isna().sum()"
   ]
  },
  {
   "cell_type": "code",
   "execution_count": 9,
   "metadata": {},
   "outputs": [],
   "source": [
    "#Alternative way of imputing using KNN Imputer or Simple Imputer.. (much more time consuming, not used..)\n",
    "#Imputation with KNNImputer \n",
    "#from sklearn.impute import KNNImputer \n",
    "#imputer = KNNImputer(n_neighbors=5, weights=\"uniform\")\n",
    "#df_features_imp = pd.DataFrame(imputer.fit_transform(df_features1))\n",
    "#Imputation...\n",
    "#df_features.dtypes\n",
    "#df_features1 = df_features.set_index(['permno','date'])\n",
    "#df_features1.head()\n",
    "#Imputing data based on MEDIAN... \n",
    "#from sklearn.impute import SimpleImputer \n",
    "#imp = SimpleImputer(missing_values=np.nan, strategy='median')\n",
    "#df_features_imp = pd.DataFrame(imp.fit_transform(df_features1))\n",
    "#df_features_imp.head()\n",
    "#Bringing index (company code and date back to dataframe)\n",
    "#df_features_imp.index = df_features1.index\n",
    "#df_features_imp.head()\n",
    "#df_features_imp = df_features_imp.reset_index()\n",
    "#df_features_imp\n"
   ]
  },
  {
   "cell_type": "markdown",
   "metadata": {},
   "source": [
    "c)Select those companies and dates that are available in both df_returns and df_features.\n"
   ]
  },
  {
   "cell_type": "code",
   "execution_count": 10,
   "metadata": {},
   "outputs": [
    {
     "data": {
      "text/html": [
       "<div>\n",
       "<style scoped>\n",
       "    .dataframe tbody tr th:only-of-type {\n",
       "        vertical-align: middle;\n",
       "    }\n",
       "\n",
       "    .dataframe tbody tr th {\n",
       "        vertical-align: top;\n",
       "    }\n",
       "\n",
       "    .dataframe thead th {\n",
       "        text-align: right;\n",
       "    }\n",
       "</style>\n",
       "<table border=\"1\" class=\"dataframe\">\n",
       "  <thead>\n",
       "    <tr style=\"text-align: right;\">\n",
       "      <th></th>\n",
       "      <th>permno</th>\n",
       "      <th>countd</th>\n",
       "    </tr>\n",
       "  </thead>\n",
       "  <tbody>\n",
       "    <tr>\n",
       "      <th>0</th>\n",
       "      <td>36281</td>\n",
       "      <td>120</td>\n",
       "    </tr>\n",
       "    <tr>\n",
       "      <th>1</th>\n",
       "      <td>80592</td>\n",
       "      <td>120</td>\n",
       "    </tr>\n",
       "    <tr>\n",
       "      <th>2</th>\n",
       "      <td>84737</td>\n",
       "      <td>120</td>\n",
       "    </tr>\n",
       "    <tr>\n",
       "      <th>3</th>\n",
       "      <td>80223</td>\n",
       "      <td>120</td>\n",
       "    </tr>\n",
       "    <tr>\n",
       "      <th>4</th>\n",
       "      <td>84161</td>\n",
       "      <td>120</td>\n",
       "    </tr>\n",
       "    <tr>\n",
       "      <th>...</th>\n",
       "      <td>...</td>\n",
       "      <td>...</td>\n",
       "    </tr>\n",
       "    <tr>\n",
       "      <th>340</th>\n",
       "      <td>20547</td>\n",
       "      <td>1</td>\n",
       "    </tr>\n",
       "    <tr>\n",
       "      <th>341</th>\n",
       "      <td>76916</td>\n",
       "      <td>1</td>\n",
       "    </tr>\n",
       "    <tr>\n",
       "      <th>342</th>\n",
       "      <td>84418</td>\n",
       "      <td>1</td>\n",
       "    </tr>\n",
       "    <tr>\n",
       "      <th>343</th>\n",
       "      <td>72072</td>\n",
       "      <td>1</td>\n",
       "    </tr>\n",
       "    <tr>\n",
       "      <th>344</th>\n",
       "      <td>79868</td>\n",
       "      <td>1</td>\n",
       "    </tr>\n",
       "  </tbody>\n",
       "</table>\n",
       "<p>345 rows × 2 columns</p>\n",
       "</div>"
      ],
      "text/plain": [
       "     permno  countd\n",
       "0     36281     120\n",
       "1     80592     120\n",
       "2     84737     120\n",
       "3     80223     120\n",
       "4     84161     120\n",
       "..      ...     ...\n",
       "340   20547       1\n",
       "341   76916       1\n",
       "342   84418       1\n",
       "343   72072       1\n",
       "344   79868       1\n",
       "\n",
       "[345 rows x 2 columns]"
      ]
     },
     "execution_count": 10,
     "metadata": {},
     "output_type": "execute_result"
    }
   ],
   "source": [
    "#Create dataframe that counts # of monthly observations for each stock... \n",
    "df_countdates = pd.DataFrame(df_returns['permno'].value_counts()).reset_index()\n",
    "df_countdates.head()\n",
    "df_countdates.columns = ['permno' , 'countd']\n",
    "df_countdates"
   ]
  },
  {
   "cell_type": "code",
   "execution_count": 11,
   "metadata": {},
   "outputs": [],
   "source": [
    "#Merge df_returns with count of obs...\n",
    "df_returns= pd.merge(df_returns, df_countdates, how = \"left\" , on = ['permno'])"
   ]
  },
  {
   "cell_type": "code",
   "execution_count": 12,
   "metadata": {},
   "outputs": [
    {
     "data": {
      "text/html": [
       "<div>\n",
       "<style scoped>\n",
       "    .dataframe tbody tr th:only-of-type {\n",
       "        vertical-align: middle;\n",
       "    }\n",
       "\n",
       "    .dataframe tbody tr th {\n",
       "        vertical-align: top;\n",
       "    }\n",
       "\n",
       "    .dataframe thead th {\n",
       "        text-align: right;\n",
       "    }\n",
       "</style>\n",
       "<table border=\"1\" class=\"dataframe\">\n",
       "  <thead>\n",
       "    <tr style=\"text-align: right;\">\n",
       "      <th></th>\n",
       "      <th>permno</th>\n",
       "      <th>date</th>\n",
       "      <th>RET</th>\n",
       "      <th>countd</th>\n",
       "    </tr>\n",
       "  </thead>\n",
       "  <tbody>\n",
       "    <tr>\n",
       "      <th>0</th>\n",
       "      <td>80223</td>\n",
       "      <td>2000-01-31</td>\n",
       "      <td>0.018235</td>\n",
       "      <td>120</td>\n",
       "    </tr>\n",
       "    <tr>\n",
       "      <th>1</th>\n",
       "      <td>80223</td>\n",
       "      <td>2000-02-29</td>\n",
       "      <td>-0.043478</td>\n",
       "      <td>120</td>\n",
       "    </tr>\n",
       "    <tr>\n",
       "      <th>2</th>\n",
       "      <td>80223</td>\n",
       "      <td>2000-03-31</td>\n",
       "      <td>0.151515</td>\n",
       "      <td>120</td>\n",
       "    </tr>\n",
       "    <tr>\n",
       "      <th>3</th>\n",
       "      <td>80223</td>\n",
       "      <td>2000-04-28</td>\n",
       "      <td>-0.049474</td>\n",
       "      <td>120</td>\n",
       "    </tr>\n",
       "    <tr>\n",
       "      <th>4</th>\n",
       "      <td>80223</td>\n",
       "      <td>2000-05-31</td>\n",
       "      <td>0.111111</td>\n",
       "      <td>120</td>\n",
       "    </tr>\n",
       "    <tr>\n",
       "      <th>...</th>\n",
       "      <td>...</td>\n",
       "      <td>...</td>\n",
       "      <td>...</td>\n",
       "      <td>...</td>\n",
       "    </tr>\n",
       "    <tr>\n",
       "      <th>26555</th>\n",
       "      <td>79472</td>\n",
       "      <td>2009-08-31</td>\n",
       "      <td>0.048309</td>\n",
       "      <td>120</td>\n",
       "    </tr>\n",
       "    <tr>\n",
       "      <th>26556</th>\n",
       "      <td>79472</td>\n",
       "      <td>2009-09-30</td>\n",
       "      <td>0.018433</td>\n",
       "      <td>120</td>\n",
       "    </tr>\n",
       "    <tr>\n",
       "      <th>26557</th>\n",
       "      <td>79472</td>\n",
       "      <td>2009-10-30</td>\n",
       "      <td>0.262443</td>\n",
       "      <td>120</td>\n",
       "    </tr>\n",
       "    <tr>\n",
       "      <th>26558</th>\n",
       "      <td>79472</td>\n",
       "      <td>2009-11-30</td>\n",
       "      <td>-0.071685</td>\n",
       "      <td>120</td>\n",
       "    </tr>\n",
       "    <tr>\n",
       "      <th>26559</th>\n",
       "      <td>79472</td>\n",
       "      <td>2009-12-31</td>\n",
       "      <td>0.000000</td>\n",
       "      <td>120</td>\n",
       "    </tr>\n",
       "  </tbody>\n",
       "</table>\n",
       "<p>25081 rows × 4 columns</p>\n",
       "</div>"
      ],
      "text/plain": [
       "       permno       date       RET  countd\n",
       "0       80223 2000-01-31  0.018235     120\n",
       "1       80223 2000-02-29 -0.043478     120\n",
       "2       80223 2000-03-31  0.151515     120\n",
       "3       80223 2000-04-28 -0.049474     120\n",
       "4       80223 2000-05-31  0.111111     120\n",
       "...       ...        ...       ...     ...\n",
       "26555   79472 2009-08-31  0.048309     120\n",
       "26556   79472 2009-09-30  0.018433     120\n",
       "26557   79472 2009-10-30  0.262443     120\n",
       "26558   79472 2009-11-30 -0.071685     120\n",
       "26559   79472 2009-12-31  0.000000     120\n",
       "\n",
       "[25081 rows x 4 columns]"
      ]
     },
     "execution_count": 12,
     "metadata": {},
     "output_type": "execute_result"
    }
   ],
   "source": [
    "#Creating criteria to only subset companies whom have 36 monthly observations (3 years) or more... \n",
    "yr_or_greater = df_returns['countd']>=36\n",
    "#Subseting the original df_returns dataframe based on prior condition... \n",
    "df_returns_sub = df_returns[yr_or_greater]\n",
    "df_returns_sub"
   ]
  },
  {
   "cell_type": "code",
   "execution_count": 13,
   "metadata": {},
   "outputs": [
    {
     "name": "stderr",
     "output_type": "stream",
     "text": [
      "C:\\Users\\pmasi\\anaconda3\\lib\\site-packages\\ipykernel_launcher.py:2: SettingWithCopyWarning: \n",
      "A value is trying to be set on a copy of a slice from a DataFrame.\n",
      "Try using .loc[row_indexer,col_indexer] = value instead\n",
      "\n",
      "See the caveats in the documentation: https://pandas.pydata.org/pandas-docs/stable/user_guide/indexing.html#returning-a-view-versus-a-copy\n",
      "  \n"
     ]
    }
   ],
   "source": [
    "#Create KEY of company code & date for both df_returns & df_features_imp to merge.... \n",
    "df_returns_sub['KEY'] = df_returns_sub['permno'].astype(str) + df_returns_sub['date'].astype(str)\n",
    "df_features_imp['KEY'] = df_features_imp['permno'].astype(str) + df_features_imp['date'].astype(str)"
   ]
  },
  {
   "cell_type": "code",
   "execution_count": 14,
   "metadata": {},
   "outputs": [
    {
     "data": {
      "text/html": [
       "<div>\n",
       "<style scoped>\n",
       "    .dataframe tbody tr th:only-of-type {\n",
       "        vertical-align: middle;\n",
       "    }\n",
       "\n",
       "    .dataframe tbody tr th {\n",
       "        vertical-align: top;\n",
       "    }\n",
       "\n",
       "    .dataframe thead th {\n",
       "        text-align: right;\n",
       "    }\n",
       "</style>\n",
       "<table border=\"1\" class=\"dataframe\">\n",
       "  <thead>\n",
       "    <tr style=\"text-align: right;\">\n",
       "      <th></th>\n",
       "      <th>permno_x</th>\n",
       "      <th>date_x</th>\n",
       "      <th>RET</th>\n",
       "      <th>countd</th>\n",
       "      <th>KEY</th>\n",
       "      <th>mvel1</th>\n",
       "      <th>beta</th>\n",
       "      <th>betasq</th>\n",
       "      <th>chmom</th>\n",
       "      <th>dolvol</th>\n",
       "      <th>...</th>\n",
       "      <th>stdacc</th>\n",
       "      <th>stdcf</th>\n",
       "      <th>ms</th>\n",
       "      <th>baspread</th>\n",
       "      <th>ill</th>\n",
       "      <th>maxret</th>\n",
       "      <th>retvol</th>\n",
       "      <th>std_dolvol</th>\n",
       "      <th>std_turn</th>\n",
       "      <th>zerotrade</th>\n",
       "    </tr>\n",
       "  </thead>\n",
       "  <tbody>\n",
       "    <tr>\n",
       "      <th>0</th>\n",
       "      <td>80223</td>\n",
       "      <td>2000-01-31</td>\n",
       "      <td>0.018235</td>\n",
       "      <td>120</td>\n",
       "      <td>802232000-01-31</td>\n",
       "      <td>99399.00</td>\n",
       "      <td>0.538797</td>\n",
       "      <td>0.290302</td>\n",
       "      <td>0.250980</td>\n",
       "      <td>9.284241</td>\n",
       "      <td>...</td>\n",
       "      <td>0.154207</td>\n",
       "      <td>0.153024</td>\n",
       "      <td>4.0</td>\n",
       "      <td>0.036578</td>\n",
       "      <td>1.050000e-06</td>\n",
       "      <td>0.106557</td>\n",
       "      <td>0.045274</td>\n",
       "      <td>0.870658</td>\n",
       "      <td>0.578843</td>\n",
       "      <td>9.545456e-01</td>\n",
       "    </tr>\n",
       "    <tr>\n",
       "      <th>1</th>\n",
       "      <td>80223</td>\n",
       "      <td>2000-02-29</td>\n",
       "      <td>-0.043478</td>\n",
       "      <td>120</td>\n",
       "      <td>802232000-02-29</td>\n",
       "      <td>100860.75</td>\n",
       "      <td>0.540417</td>\n",
       "      <td>0.292051</td>\n",
       "      <td>0.099048</td>\n",
       "      <td>9.250762</td>\n",
       "      <td>...</td>\n",
       "      <td>0.149610</td>\n",
       "      <td>0.149502</td>\n",
       "      <td>4.0</td>\n",
       "      <td>0.052363</td>\n",
       "      <td>5.560000e-07</td>\n",
       "      <td>0.092308</td>\n",
       "      <td>0.034985</td>\n",
       "      <td>1.341841</td>\n",
       "      <td>2.182279</td>\n",
       "      <td>4.690000e-08</td>\n",
       "    </tr>\n",
       "    <tr>\n",
       "      <th>2</th>\n",
       "      <td>80223</td>\n",
       "      <td>2000-03-31</td>\n",
       "      <td>0.151515</td>\n",
       "      <td>120</td>\n",
       "      <td>802232000-03-31</td>\n",
       "      <td>96475.50</td>\n",
       "      <td>0.536282</td>\n",
       "      <td>0.287599</td>\n",
       "      <td>0.050222</td>\n",
       "      <td>10.757669</td>\n",
       "      <td>...</td>\n",
       "      <td>0.149846</td>\n",
       "      <td>0.151396</td>\n",
       "      <td>4.0</td>\n",
       "      <td>0.031097</td>\n",
       "      <td>4.720000e-07</td>\n",
       "      <td>0.045455</td>\n",
       "      <td>0.023833</td>\n",
       "      <td>1.418984</td>\n",
       "      <td>6.950942</td>\n",
       "      <td>4.480000e-08</td>\n",
       "    </tr>\n",
       "    <tr>\n",
       "      <th>3</th>\n",
       "      <td>80223</td>\n",
       "      <td>2000-04-28</td>\n",
       "      <td>-0.049474</td>\n",
       "      <td>120</td>\n",
       "      <td>802232000-04-28</td>\n",
       "      <td>111093.00</td>\n",
       "      <td>0.533053</td>\n",
       "      <td>0.284146</td>\n",
       "      <td>-0.145230</td>\n",
       "      <td>10.759311</td>\n",
       "      <td>...</td>\n",
       "      <td>0.149998</td>\n",
       "      <td>0.148704</td>\n",
       "      <td>4.0</td>\n",
       "      <td>0.029496</td>\n",
       "      <td>9.010000e-07</td>\n",
       "      <td>0.069767</td>\n",
       "      <td>0.030285</td>\n",
       "      <td>1.299826</td>\n",
       "      <td>1.044665</td>\n",
       "      <td>1.826087e+00</td>\n",
       "    </tr>\n",
       "    <tr>\n",
       "      <th>4</th>\n",
       "      <td>80223</td>\n",
       "      <td>2000-05-31</td>\n",
       "      <td>0.111111</td>\n",
       "      <td>120</td>\n",
       "      <td>802232000-05-31</td>\n",
       "      <td>105327.00</td>\n",
       "      <td>0.457308</td>\n",
       "      <td>0.209131</td>\n",
       "      <td>-0.203134</td>\n",
       "      <td>10.147845</td>\n",
       "      <td>...</td>\n",
       "      <td>0.150106</td>\n",
       "      <td>0.160472</td>\n",
       "      <td>4.0</td>\n",
       "      <td>0.016200</td>\n",
       "      <td>3.280000e-07</td>\n",
       "      <td>0.013514</td>\n",
       "      <td>0.010280</td>\n",
       "      <td>1.318185</td>\n",
       "      <td>1.561496</td>\n",
       "      <td>4.421053e+00</td>\n",
       "    </tr>\n",
       "  </tbody>\n",
       "</table>\n",
       "<p>5 rows × 98 columns</p>\n",
       "</div>"
      ],
      "text/plain": [
       "   permno_x     date_x       RET  countd              KEY      mvel1  \\\n",
       "0     80223 2000-01-31  0.018235     120  802232000-01-31   99399.00   \n",
       "1     80223 2000-02-29 -0.043478     120  802232000-02-29  100860.75   \n",
       "2     80223 2000-03-31  0.151515     120  802232000-03-31   96475.50   \n",
       "3     80223 2000-04-28 -0.049474     120  802232000-04-28  111093.00   \n",
       "4     80223 2000-05-31  0.111111     120  802232000-05-31  105327.00   \n",
       "\n",
       "       beta    betasq     chmom     dolvol  ...    stdacc     stdcf   ms  \\\n",
       "0  0.538797  0.290302  0.250980   9.284241  ...  0.154207  0.153024  4.0   \n",
       "1  0.540417  0.292051  0.099048   9.250762  ...  0.149610  0.149502  4.0   \n",
       "2  0.536282  0.287599  0.050222  10.757669  ...  0.149846  0.151396  4.0   \n",
       "3  0.533053  0.284146 -0.145230  10.759311  ...  0.149998  0.148704  4.0   \n",
       "4  0.457308  0.209131 -0.203134  10.147845  ...  0.150106  0.160472  4.0   \n",
       "\n",
       "   baspread           ill    maxret    retvol  std_dolvol  std_turn  \\\n",
       "0  0.036578  1.050000e-06  0.106557  0.045274    0.870658  0.578843   \n",
       "1  0.052363  5.560000e-07  0.092308  0.034985    1.341841  2.182279   \n",
       "2  0.031097  4.720000e-07  0.045455  0.023833    1.418984  6.950942   \n",
       "3  0.029496  9.010000e-07  0.069767  0.030285    1.299826  1.044665   \n",
       "4  0.016200  3.280000e-07  0.013514  0.010280    1.318185  1.561496   \n",
       "\n",
       "      zerotrade  \n",
       "0  9.545456e-01  \n",
       "1  4.690000e-08  \n",
       "2  4.480000e-08  \n",
       "3  1.826087e+00  \n",
       "4  4.421053e+00  \n",
       "\n",
       "[5 rows x 98 columns]"
      ]
     },
     "execution_count": 14,
     "metadata": {},
     "output_type": "execute_result"
    }
   ],
   "source": [
    "#Merge based on left join of df_returns_sub & df_features... \n",
    "df_merged= pd.merge(df_returns_sub, df_features_imp, how = \"left\" , on = ['KEY'])\n",
    "del df_merged['date_y']\n",
    "del df_merged['permno_y']\n",
    "df_merged.head()"
   ]
  },
  {
   "cell_type": "markdown",
   "metadata": {},
   "source": [
    "# Question 2 [15P]\n",
    "\n",
    "In this question we ask: What determines the differences between average stock returns? This perspective implies that we do not care much about the time-variation. If this were a linear regression model, you would estimate\n",
    "$$\n",
    "r_i = X_i \\beta + e_i\n",
    "$$\n",
    "Instead, we fit a `Ridge` regression that shrinks the cross sectional coefficients $\\beta$ towards zero. How strong the shrinkage is depends on the hyperparameter `alpha`.\n",
    "\n",
    "**a)**\n",
    "Compute the average stock return $r_i = \\frac{1}{T} \\sum_t r_{it}$ and average features $X_i = \\frac{1}{T} \\sum_t X_{it}$ of each company over the entire sample.\n",
    "\n",
    "**b)**\n",
    "Select a cross validator and the number of folds that you deem appropriate for this task. Briefly explain your choice. You will only use this cross validator for Part I.\n",
    "\n",
    "**c)**\n",
    "Choose 20 values for `alpha` (e.g. using `np.linspace` or `np.logspace`). Then, use the `cross_validate` function to calculate the average test score (i.e. the score calculated on the test sample) of all cross validation folds for each `alpha`. Do this exercise once with \n",
    "* `cross_validate(..., scoring='neg_root_mean_squared_error', ...)` and with \n",
    "* `cross_validate(..., scoring='neg_median_absolute_error', ...)`. \n",
    "\n",
    "At the end of this subquestion, you should have two series, `sr_rmse_ridge` and `sr_mae_ridge`. Each series should have the 20 alpha values as the index and the corresponding average test scores as values. Plot these two series in a single graph.\n",
    "\n",
    "**d)**\n",
    "Discuss how the two series differ and why you think that is the case. If they do not differ, discuss why your results are insensitive to different scoring methods. Decide for one of the two scoring methods."
   ]
  },
  {
   "cell_type": "markdown",
   "metadata": {},
   "source": [
    "<div style=\"color:blue; border-bottom: 7px solid rgba(0,0,255,.3); line-height:36pt; font-size:185.7%; font-weight:bold; padding-left:.3em;\">Answer</div>"
   ]
  },
  {
   "cell_type": "markdown",
   "metadata": {},
   "source": [
    "a) Compute the average stock return  and average features  of each company over the entire sample."
   ]
  },
  {
   "cell_type": "code",
   "execution_count": 15,
   "metadata": {},
   "outputs": [],
   "source": [
    "#Computing the average stock return by grouping by company code and taking the mean of each individual company accross all time...\n",
    "df_avg_ret = df_merged.groupby('permno_x').mean().reset_index()\n",
    "#df_avg_ret.head()"
   ]
  },
  {
   "cell_type": "markdown",
   "metadata": {},
   "source": [
    "b)Select a cross validator and the number of folds that you deem appropriate for this task\n"
   ]
  },
  {
   "cell_type": "markdown",
   "metadata": {},
   "source": [
    "My answer:\n",
    "The number of K-fold is tricky to establish. A higher K implies more variance and lower bias while a lower K implies less variance and more bias. Thus, to be on the safe side, I will consider 5-K folds.. "
   ]
  },
  {
   "cell_type": "markdown",
   "metadata": {},
   "source": [
    "c)use the cross_validate function to calculate the average test score (i.e. the score calculated on the test sample) of all cross validation folds for each alpha. Do this exercise once with\n",
    "\n",
    "\n"
   ]
  },
  {
   "cell_type": "code",
   "execution_count": 16,
   "metadata": {},
   "outputs": [],
   "source": [
    "#Train/test split application\n",
    "from sklearn.model_selection import train_test_split\n",
    "y_avg_ret = df_avg_ret['RET'] #vector of dependent label... \n",
    "X_avg_ret = df_avg_ret[df_avg_ret.columns[3:96]] # matrix of 93 features...\n",
    "\n",
    "X_train, X_test, y_train, y_test = train_test_split(X_avg_ret, y_avg_ret, random_state=5)"
   ]
  },
  {
   "cell_type": "code",
   "execution_count": 17,
   "metadata": {},
   "outputs": [],
   "source": [
    "#Transforming data prior to fitting a ridge regression... \n",
    "from sklearn.preprocessing import MinMaxScaler\n",
    "from sklearn.linear_model import Ridge\n",
    "scaler = MinMaxScaler()\n",
    "# Applying scaling to BOTH test and train sets.... very important.. \n",
    "X_train_scaled = scaler.fit_transform(X_train)\n",
    "X_test_scaled = scaler.transform(X_test)"
   ]
  },
  {
   "cell_type": "code",
   "execution_count": 18,
   "metadata": {},
   "outputs": [
    {
     "name": "stdout",
     "output_type": "stream",
     "text": [
      "{'alpha': 0.92}\n",
      "-0.010081991492474088\n"
     ]
    }
   ],
   "source": [
    "#Conducting the grid search with 20 values for alpha RMSE... \n",
    "#Ridge Root mean squared error grid search CV \n",
    "from sklearn.model_selection import GridSearchCV\n",
    "model = Ridge()\n",
    "alpha_param_range = {'alpha':[0.01, 0.04, 0.08, 0.12, 0.16, 0.2 , 0.24, 0.28, 0.320, 0.48, 0.52, 0.56, 0.6 , 0.64, 0.68, 0.72, 0.76,0.88, 0.92, 0.96]}\n",
    "ridge_reg_rmse = GridSearchCV(model,alpha_param_range,scoring = 'neg_root_mean_squared_error' , cv = 5)\n",
    "#Fit the grid search...\n",
    "ridge_reg_rmse.fit(X_train_scaled,y_train)\n",
    "#Print best alpha parameter and best score \n",
    "print(ridge_reg_rmse.best_params_)\n",
    "print(ridge_reg_rmse.best_score_)\n"
   ]
  },
  {
   "cell_type": "code",
   "execution_count": 19,
   "metadata": {},
   "outputs": [
    {
     "data": {
      "image/png": "[encoded data removed]",
      "text/plain": [
       "<Figure size 432x288 with 1 Axes>"
      ]
     },
     "metadata": {
      "needs_background": "light"
     },
     "output_type": "display_data"
    }
   ],
   "source": [
    "#Putting ridge RMSE in dataframe and plotting... \n",
    "ridge_df_rmse = pd.DataFrame(ridge_reg_rmse.cv_results_)\n",
    "ridge_df_rmse['alpha_range'] = [0.01, 0.04, 0.08, 0.12, 0.16, 0.2 , 0.24, 0.28, 0.320, 0.48, 0.52, 0.56, 0.6 , 0.64, 0.68, 0.72, 0.76,0.88, 0.92, 0.96]\n",
    "#ridge_df_rmse[['alpha_range','mean_test_score']]\n",
    "#Plot of sr_rmse_ridge\n",
    "plt.plot(ridge_df_rmse['alpha_range'],ridge_df_rmse['mean_test_score'] , label = 'RMSE')\n",
    "plt.xlabel('alpha')\n",
    "plt.ylabel('score')\n",
    "plt.legend()\n",
    "plt.show()"
   ]
  },
  {
   "cell_type": "code",
   "execution_count": 20,
   "metadata": {},
   "outputs": [
    {
     "name": "stdout",
     "output_type": "stream",
     "text": [
      "{'alpha': 0.52}\n",
      "-0.003788363879022181\n"
     ]
    }
   ],
   "source": [
    "#Conducting the grid search with 20 values for alpha MAE... \n",
    "# Ridge Median Absolute Error GridSearch CV \n",
    "from sklearn.model_selection import GridSearchCV\n",
    "model = Ridge()\n",
    "alpha_param_range = {'alpha':[0.01, 0.04, 0.08, 0.12, 0.16, 0.2 , 0.24, 0.28, 0.320, 0.48, 0.52, 0.56, 0.6 , 0.64, 0.68, 0.72, 0.76,0.88, 0.92, 0.96]}\n",
    "ridge_reg_mae = GridSearchCV(model,alpha_param_range,scoring = \"neg_median_absolute_error\" , cv = 5)\n",
    "ridge_reg_mae.fit(X_train_scaled,y_train)\n",
    "#Print best alpha parameter and best score \n",
    "print(ridge_reg_mae.best_params_)\n",
    "print(ridge_reg_mae.best_score_)\n"
   ]
  },
  {
   "cell_type": "code",
   "execution_count": 21,
   "metadata": {},
   "outputs": [
    {
     "data": {
      "image/png": "[encoded data removed]",
      "text/plain": [
       "<Figure size 432x288 with 1 Axes>"
      ]
     },
     "metadata": {
      "needs_background": "light"
     },
     "output_type": "display_data"
    }
   ],
   "source": [
    "#Putting ridge MAE in dataframe...\n",
    "ridge_reg_mae = pd.DataFrame(ridge_reg_mae.cv_results_)\n",
    "ridge_reg_mae['alpha_range'] = [0.01, 0.04, 0.08, 0.12, 0.16, 0.2 , 0.24, 0.28, 0.320, 0.48, 0.52, 0.56, 0.6 , 0.64, 0.68, 0.72, 0.76,0.88, 0.92, 0.96]\n",
    "#ridge_reg_mae[['alpha_range','mean_test_score']]\n",
    "#Plot of sr_mae_ridge\n",
    "plt.plot(ridge_reg_mae['alpha_range'],ridge_reg_mae['mean_test_score'] , label = \"mae\")\n",
    "plt.xlabel('alpha')\n",
    "plt.ylabel('score')\n",
    "plt.legend()\n",
    "plt.show()"
   ]
  },
  {
   "cell_type": "code",
   "execution_count": 22,
   "metadata": {},
   "outputs": [
    {
     "data": {
      "image/png": "[encoded data removed]",
      "text/plain": [
       "<Figure size 432x288 with 1 Axes>"
      ]
     },
     "metadata": {
      "needs_background": "light"
     },
     "output_type": "display_data"
    }
   ],
   "source": [
    "#Comparative plot of Ridge Regression for RMSE & MAE\n",
    "plt.plot(ridge_reg_mae['alpha_range'],ridge_reg_mae['mean_test_score'] , label = \"mae\")\n",
    "plt.plot(ridge_df_rmse['alpha_range'],ridge_df_rmse['mean_test_score'] , label = \"rmse\")\n",
    "plt.xlabel('alpha')\n",
    "plt.ylabel('score')\n",
    "plt.title('Comparative Ridge Regression for Firm Characteristics')\n",
    "plt.legend()\n",
    "plt.show()"
   ]
  },
  {
   "cell_type": "markdown",
   "metadata": {},
   "source": [
    " d) Discuss how the two series differ and why you think that is the case. If they do not differ, discuss why your results are insensitive to different scoring methods. Decide for one of the two scoring methods.\n"
   ]
  },
  {
   "cell_type": "markdown",
   "metadata": {},
   "source": [
    "My answer: \n",
    "\n",
    "Both the mean absolute error(MAE) and the root mean squared error(RMSE) measure the average model prediction error indiferent of the direction (+ or -) of such error. These are the two most common metrics to measure accuracy of continuous variables and a lower value signifies better accuracy (the closer to 0, the better).  The main difference between MAE and RMSE is that RMSE gives a high weight to large errors since it squares the error before taking the average of them. In other words, the RMSE punishes high errors while the MAE equally weights all errrors. So only in the case that errors are evenly distributed will the MAE and RMSE be equal. If there is a slight variance in errors, then the RMSE will always be greater (or further away from 0) than the MAE \n",
    "\n",
    "By evaluating the results of the ridge regression, this pattern is clearly seen in the Comparative graph where the MAE shows a greater accuracy (closer proximity to 0) than the RMSE for all values of alpha without exception. \n",
    "\n",
    "Given that the objective of this project is to make predictions on a continuous variable (returns), and large errors or diferences between the predicted value versus the observed value are not desirable, the RMSE scoring method is the one I chose because it will provide better interpretation and insights given this metric accounts for the penalization of large errors... \n",
    "\n"
   ]
  },
  {
   "cell_type": "markdown",
   "metadata": {},
   "source": [
    "# Question 3 [10P]\n",
    "\n",
    "While the Ridge model shrinks coefficients towards zero, it rarely sets them to exactly zero. This is what the Lasso does, which is therefore suited for variable selection. In this question you determine which features are most relevant, according to the Lasso. \n",
    "\n",
    "**a)** \n",
    "Produce a similar graph as you did in the previous question using a `Lasso` model with the **one** scoring method you chose. You may have to adjust the 20 alphas before you calculate `sr_rmse_lasso` **or** `sr_mae_lasso`. \n",
    "\n",
    "**b)**\n",
    "What is the optimal `alpha` parameter? Which features are most predictive if you use this `alpha`? Use a [bar plot](https://pandas.pydata.org/pandas-docs/stable/reference/api/pandas.DataFrame.plot.bar.html) or [horizontal bar plot](https://pandas.pydata.org/pandas-docs/stable/reference/api/pandas.DataFrame.plot.barh.html) to show the non-zero coefficients.\n",
    "\n",
    "**c)**\n",
    "Are these selected variables sensible? Briefly discuss your findings using **1 or 2 features** an investor might find interesting. It is not expected of you to discuss **all** selected features. Recall that you can find more information on the features in the paper Green, Hand, Zhang (2017) in the literature folder."
   ]
  },
  {
   "cell_type": "markdown",
   "metadata": {},
   "source": [
    "<div style=\"color:blue; border-bottom: 7px solid rgba(0,0,255,.3); line-height:36pt; font-size:185.7%; font-weight:bold; padding-left:.3em;\">Answer</div>"
   ]
  },
  {
   "cell_type": "markdown",
   "metadata": {},
   "source": [
    "a)Produce a similar graph as you did in the previous question using a Lasso model with the one scoring method you chose\n"
   ]
  },
  {
   "cell_type": "markdown",
   "metadata": {},
   "source": [
    "#Comparing the optimal alpha for lasso (both the rmse and mae) with the ridge calculated in previous question, it is clearly seen that lasso provides better scoring results. This makes sense given the dataset contains a large amount of features and lasso regression is better fit to perform feature selection.. "
   ]
  },
  {
   "cell_type": "code",
   "execution_count": 23,
   "metadata": {},
   "outputs": [
    {
     "name": "stderr",
     "output_type": "stream",
     "text": [
      "C:\\Users\\pmasi\\anaconda3\\lib\\site-packages\\sklearn\\model_selection\\_validation.py:593: UserWarning: With alpha=0, this algorithm does not converge well. You are advised to use the LinearRegression estimator\n",
      "  estimator.fit(X_train, y_train, **fit_params)\n",
      "C:\\Users\\pmasi\\anaconda3\\lib\\site-packages\\sklearn\\linear_model\\_coordinate_descent.py:532: UserWarning: Coordinate descent with no regularization may lead to unexpected results and is discouraged.\n",
      "  positive)\n",
      "C:\\Users\\pmasi\\anaconda3\\lib\\site-packages\\sklearn\\linear_model\\_coordinate_descent.py:532: ConvergenceWarning: Objective did not converge. You might want to increase the number of iterations. Duality gap: 0.001168952881681081, tolerance: 4.086505585065983e-06\n",
      "  positive)\n",
      "C:\\Users\\pmasi\\anaconda3\\lib\\site-packages\\sklearn\\model_selection\\_validation.py:593: UserWarning: With alpha=0, this algorithm does not converge well. You are advised to use the LinearRegression estimator\n",
      "  estimator.fit(X_train, y_train, **fit_params)\n",
      "C:\\Users\\pmasi\\anaconda3\\lib\\site-packages\\sklearn\\linear_model\\_coordinate_descent.py:532: UserWarning: Coordinate descent with no regularization may lead to unexpected results and is discouraged.\n",
      "  positive)\n",
      "C:\\Users\\pmasi\\anaconda3\\lib\\site-packages\\sklearn\\linear_model\\_coordinate_descent.py:532: ConvergenceWarning: Objective did not converge. You might want to increase the number of iterations. Duality gap: 0.0002836139210102525, tolerance: 2.9841043251501076e-06\n",
      "  positive)\n",
      "C:\\Users\\pmasi\\anaconda3\\lib\\site-packages\\sklearn\\model_selection\\_validation.py:593: UserWarning: With alpha=0, this algorithm does not converge well. You are advised to use the LinearRegression estimator\n",
      "  estimator.fit(X_train, y_train, **fit_params)\n",
      "C:\\Users\\pmasi\\anaconda3\\lib\\site-packages\\sklearn\\linear_model\\_coordinate_descent.py:532: UserWarning: Coordinate descent with no regularization may lead to unexpected results and is discouraged.\n",
      "  positive)\n",
      "C:\\Users\\pmasi\\anaconda3\\lib\\site-packages\\sklearn\\linear_model\\_coordinate_descent.py:532: ConvergenceWarning: Objective did not converge. You might want to increase the number of iterations. Duality gap: 0.001180533579200164, tolerance: 3.2563702767124157e-06\n",
      "  positive)\n",
      "C:\\Users\\pmasi\\anaconda3\\lib\\site-packages\\sklearn\\model_selection\\_validation.py:593: UserWarning: With alpha=0, this algorithm does not converge well. You are advised to use the LinearRegression estimator\n",
      "  estimator.fit(X_train, y_train, **fit_params)\n",
      "C:\\Users\\pmasi\\anaconda3\\lib\\site-packages\\sklearn\\linear_model\\_coordinate_descent.py:532: UserWarning: Coordinate descent with no regularization may lead to unexpected results and is discouraged.\n",
      "  positive)\n",
      "C:\\Users\\pmasi\\anaconda3\\lib\\site-packages\\sklearn\\linear_model\\_coordinate_descent.py:532: ConvergenceWarning: Objective did not converge. You might want to increase the number of iterations. Duality gap: 0.0013275091891283462, tolerance: 4.016919988235784e-06\n",
      "  positive)\n",
      "C:\\Users\\pmasi\\anaconda3\\lib\\site-packages\\sklearn\\model_selection\\_validation.py:593: UserWarning: With alpha=0, this algorithm does not converge well. You are advised to use the LinearRegression estimator\n",
      "  estimator.fit(X_train, y_train, **fit_params)\n",
      "C:\\Users\\pmasi\\anaconda3\\lib\\site-packages\\sklearn\\linear_model\\_coordinate_descent.py:532: UserWarning: Coordinate descent with no regularization may lead to unexpected results and is discouraged.\n",
      "  positive)\n",
      "C:\\Users\\pmasi\\anaconda3\\lib\\site-packages\\sklearn\\linear_model\\_coordinate_descent.py:532: ConvergenceWarning: Objective did not converge. You might want to increase the number of iterations. Duality gap: 0.0010709486804630118, tolerance: 4.078840058370205e-06\n",
      "  positive)\n",
      "C:\\Users\\pmasi\\anaconda3\\lib\\site-packages\\sklearn\\linear_model\\_coordinate_descent.py:532: ConvergenceWarning: Objective did not converge. You might want to increase the number of iterations. Duality gap: 0.0004372871040779233, tolerance: 4.086505585065983e-06\n",
      "  positive)\n",
      "C:\\Users\\pmasi\\anaconda3\\lib\\site-packages\\sklearn\\linear_model\\_coordinate_descent.py:532: ConvergenceWarning: Objective did not converge. You might want to increase the number of iterations. Duality gap: 3.458300371271712e-05, tolerance: 3.2563702767124157e-06\n",
      "  positive)\n",
      "C:\\Users\\pmasi\\anaconda3\\lib\\site-packages\\sklearn\\linear_model\\_coordinate_descent.py:532: ConvergenceWarning: Objective did not converge. You might want to increase the number of iterations. Duality gap: 8.464447903377276e-06, tolerance: 4.016919988235784e-06\n",
      "  positive)\n",
      "C:\\Users\\pmasi\\anaconda3\\lib\\site-packages\\sklearn\\linear_model\\_coordinate_descent.py:532: ConvergenceWarning: Objective did not converge. You might want to increase the number of iterations. Duality gap: 0.0001344581477778022, tolerance: 4.086505585065983e-06\n",
      "  positive)\n",
      "C:\\Users\\pmasi\\anaconda3\\lib\\site-packages\\sklearn\\linear_model\\_coordinate_descent.py:532: ConvergenceWarning: Objective did not converge. You might want to increase the number of iterations. Duality gap: 5.971527136723175e-06, tolerance: 3.2563702767124157e-06\n",
      "  positive)\n",
      "C:\\Users\\pmasi\\anaconda3\\lib\\site-packages\\sklearn\\linear_model\\_coordinate_descent.py:532: ConvergenceWarning: Objective did not converge. You might want to increase the number of iterations. Duality gap: 5.6883216105183855e-06, tolerance: 4.016919988235784e-06\n",
      "  positive)\n"
     ]
    },
    {
     "name": "stdout",
     "output_type": "stream",
     "text": [
      "{'alpha': 1.9e-05}\n",
      "-0.011357316228425656\n"
     ]
    }
   ],
   "source": [
    "#Conducting the grid search with 20 values for alpha RMSE... \n",
    "# Lasso Root Mean Squared Error GridSearch CV \n",
    "from sklearn.linear_model import Lasso \n",
    "model_lasso = Lasso()\n",
    "#Adjusted alpha to reflect lower range (to find optimal alpha) compared to ridge...\n",
    "alpha_param_range_l = {'alpha':[0.0e+00, 1.0e-06, 2.0e-06, 3.0e-06, 4.0e-06, 5.0e-06, 6.0e-06,\n",
    "       7.0e-06, 8.0e-06, 9.0e-06, 1.0e-05, 1.1e-05, 1.2e-05, 1.3e-05,\n",
    "       1.4e-05, 1.5e-05, 1.6e-05, 1.7e-05, 1.8e-05, 1.9e-05]}\n",
    "lasso_reg_rmse = GridSearchCV(model_lasso,alpha_param_range_l,scoring = \"neg_root_mean_squared_error\" , cv = 5)\n",
    "lasso_reg_rmse.fit(X_train_scaled,y_train)\n",
    "#Print best alpha parameter and best score \n",
    "print(lasso_reg_rmse.best_params_)\n",
    "print(lasso_reg_rmse.best_score_)"
   ]
  },
  {
   "cell_type": "code",
   "execution_count": 24,
   "metadata": {},
   "outputs": [
    {
     "data": {
      "image/png": "[encoded data removed]",
      "text/plain": [
       "<Figure size 432x288 with 1 Axes>"
      ]
     },
     "metadata": {
      "needs_background": "light"
     },
     "output_type": "display_data"
    }
   ],
   "source": [
    "#Putting lasso results in dataframe and plotting.. \n",
    "lasso_reg_rmse = pd.DataFrame(lasso_reg_rmse.cv_results_)\n",
    "lasso_reg_rmse['alpha_range'] = [0.0e+00, 1.0e-06, 2.0e-06, 3.0e-06, 4.0e-06, 5.0e-06, 6.0e-06,\n",
    "       7.0e-06, 8.0e-06, 9.0e-06, 1.0e-05, 1.1e-05, 1.2e-05, 1.3e-05,\n",
    "       1.4e-05, 1.5e-05, 1.6e-05, 1.7e-05, 1.8e-05, 1.9e-05]\n",
    "#lasso_reg_rmse[['alpha_range','mean_test_score']]\n",
    "#Plot of sr_rmse_lasso\n",
    "plt.plot(lasso_reg_rmse['alpha_range'],lasso_reg_rmse['mean_test_score'] , label = 'RMSE')\n",
    "plt.legend()\n",
    "plt.title('Lasso Regression RMSE')\n",
    "plt.show()"
   ]
  },
  {
   "cell_type": "code",
   "execution_count": 25,
   "metadata": {},
   "outputs": [
    {
     "name": "stderr",
     "output_type": "stream",
     "text": [
      "C:\\Users\\pmasi\\anaconda3\\lib\\site-packages\\sklearn\\model_selection\\_validation.py:593: UserWarning: With alpha=0, this algorithm does not converge well. You are advised to use the LinearRegression estimator\n",
      "  estimator.fit(X_train, y_train, **fit_params)\n",
      "C:\\Users\\pmasi\\anaconda3\\lib\\site-packages\\sklearn\\linear_model\\_coordinate_descent.py:532: UserWarning: Coordinate descent with no regularization may lead to unexpected results and is discouraged.\n",
      "  positive)\n",
      "C:\\Users\\pmasi\\anaconda3\\lib\\site-packages\\sklearn\\linear_model\\_coordinate_descent.py:532: ConvergenceWarning: Objective did not converge. You might want to increase the number of iterations. Duality gap: 0.001168952881681081, tolerance: 4.086505585065983e-06\n",
      "  positive)\n",
      "C:\\Users\\pmasi\\anaconda3\\lib\\site-packages\\sklearn\\model_selection\\_validation.py:593: UserWarning: With alpha=0, this algorithm does not converge well. You are advised to use the LinearRegression estimator\n",
      "  estimator.fit(X_train, y_train, **fit_params)\n",
      "C:\\Users\\pmasi\\anaconda3\\lib\\site-packages\\sklearn\\linear_model\\_coordinate_descent.py:532: UserWarning: Coordinate descent with no regularization may lead to unexpected results and is discouraged.\n",
      "  positive)\n",
      "C:\\Users\\pmasi\\anaconda3\\lib\\site-packages\\sklearn\\linear_model\\_coordinate_descent.py:532: ConvergenceWarning: Objective did not converge. You might want to increase the number of iterations. Duality gap: 0.0002836139210102525, tolerance: 2.9841043251501076e-06\n",
      "  positive)\n",
      "C:\\Users\\pmasi\\anaconda3\\lib\\site-packages\\sklearn\\model_selection\\_validation.py:593: UserWarning: With alpha=0, this algorithm does not converge well. You are advised to use the LinearRegression estimator\n",
      "  estimator.fit(X_train, y_train, **fit_params)\n",
      "C:\\Users\\pmasi\\anaconda3\\lib\\site-packages\\sklearn\\linear_model\\_coordinate_descent.py:532: UserWarning: Coordinate descent with no regularization may lead to unexpected results and is discouraged.\n",
      "  positive)\n",
      "C:\\Users\\pmasi\\anaconda3\\lib\\site-packages\\sklearn\\linear_model\\_coordinate_descent.py:532: ConvergenceWarning: Objective did not converge. You might want to increase the number of iterations. Duality gap: 0.001180533579200164, tolerance: 3.2563702767124157e-06\n",
      "  positive)\n",
      "C:\\Users\\pmasi\\anaconda3\\lib\\site-packages\\sklearn\\model_selection\\_validation.py:593: UserWarning: With alpha=0, this algorithm does not converge well. You are advised to use the LinearRegression estimator\n",
      "  estimator.fit(X_train, y_train, **fit_params)\n",
      "C:\\Users\\pmasi\\anaconda3\\lib\\site-packages\\sklearn\\linear_model\\_coordinate_descent.py:532: UserWarning: Coordinate descent with no regularization may lead to unexpected results and is discouraged.\n",
      "  positive)\n",
      "C:\\Users\\pmasi\\anaconda3\\lib\\site-packages\\sklearn\\linear_model\\_coordinate_descent.py:532: ConvergenceWarning: Objective did not converge. You might want to increase the number of iterations. Duality gap: 0.0013275091891283462, tolerance: 4.016919988235784e-06\n",
      "  positive)\n",
      "C:\\Users\\pmasi\\anaconda3\\lib\\site-packages\\sklearn\\model_selection\\_validation.py:593: UserWarning: With alpha=0, this algorithm does not converge well. You are advised to use the LinearRegression estimator\n",
      "  estimator.fit(X_train, y_train, **fit_params)\n",
      "C:\\Users\\pmasi\\anaconda3\\lib\\site-packages\\sklearn\\linear_model\\_coordinate_descent.py:532: UserWarning: Coordinate descent with no regularization may lead to unexpected results and is discouraged.\n",
      "  positive)\n",
      "C:\\Users\\pmasi\\anaconda3\\lib\\site-packages\\sklearn\\linear_model\\_coordinate_descent.py:532: ConvergenceWarning: Objective did not converge. You might want to increase the number of iterations. Duality gap: 0.0010709486804630118, tolerance: 4.078840058370205e-06\n",
      "  positive)\n",
      "C:\\Users\\pmasi\\anaconda3\\lib\\site-packages\\sklearn\\linear_model\\_coordinate_descent.py:532: ConvergenceWarning: Objective did not converge. You might want to increase the number of iterations. Duality gap: 0.0004372871040779233, tolerance: 4.086505585065983e-06\n",
      "  positive)\n",
      "C:\\Users\\pmasi\\anaconda3\\lib\\site-packages\\sklearn\\linear_model\\_coordinate_descent.py:532: ConvergenceWarning: Objective did not converge. You might want to increase the number of iterations. Duality gap: 3.458300371271712e-05, tolerance: 3.2563702767124157e-06\n",
      "  positive)\n",
      "C:\\Users\\pmasi\\anaconda3\\lib\\site-packages\\sklearn\\linear_model\\_coordinate_descent.py:532: ConvergenceWarning: Objective did not converge. You might want to increase the number of iterations. Duality gap: 8.464447903377276e-06, tolerance: 4.016919988235784e-06\n",
      "  positive)\n",
      "C:\\Users\\pmasi\\anaconda3\\lib\\site-packages\\sklearn\\linear_model\\_coordinate_descent.py:532: ConvergenceWarning: Objective did not converge. You might want to increase the number of iterations. Duality gap: 0.0001344581477778022, tolerance: 4.086505585065983e-06\n",
      "  positive)\n",
      "C:\\Users\\pmasi\\anaconda3\\lib\\site-packages\\sklearn\\linear_model\\_coordinate_descent.py:532: ConvergenceWarning: Objective did not converge. You might want to increase the number of iterations. Duality gap: 5.971527136723175e-06, tolerance: 3.2563702767124157e-06\n",
      "  positive)\n",
      "C:\\Users\\pmasi\\anaconda3\\lib\\site-packages\\sklearn\\linear_model\\_coordinate_descent.py:532: ConvergenceWarning: Objective did not converge. You might want to increase the number of iterations. Duality gap: 5.6883216105183855e-06, tolerance: 4.016919988235784e-06\n",
      "  positive)\n"
     ]
    },
    {
     "name": "stdout",
     "output_type": "stream",
     "text": [
      "{'alpha': 1.9e-05}\n",
      "-0.003685859497138378\n"
     ]
    }
   ],
   "source": [
    "#Conducting the grid search with 20 values for alpha MAE... \n",
    "# Lasso Median Absolute Error GridSearch CV \n",
    "model_lasso = Lasso()\n",
    "alpha_param_range_l = {'alpha':[0.0e+00, 1.0e-06, 2.0e-06, 3.0e-06, 4.0e-06, 5.0e-06, 6.0e-06,\n",
    "       7.0e-06, 8.0e-06, 9.0e-06, 1.0e-05, 1.1e-05, 1.2e-05, 1.3e-05,\n",
    "       1.4e-05, 1.5e-05, 1.6e-05, 1.7e-05, 1.8e-05, 1.9e-05]}\n",
    "lasso_reg_mae = GridSearchCV(model_lasso,alpha_param_range_l,scoring = \"neg_median_absolute_error\" , cv = 5)\n",
    "lasso_reg_mae.fit(X_train_scaled,y_train)\n",
    "#Print best alpha parameter and best score \n",
    "print(lasso_reg_mae.best_params_)\n",
    "print(lasso_reg_mae.best_score_)"
   ]
  },
  {
   "cell_type": "code",
   "execution_count": 26,
   "metadata": {},
   "outputs": [
    {
     "data": {
      "image/png": "[encoded data removed]",
      "text/plain": [
       "<Figure size 432x288 with 1 Axes>"
      ]
     },
     "metadata": {
      "needs_background": "light"
     },
     "output_type": "display_data"
    }
   ],
   "source": [
    "#Putting results in dataframe and plotting... \n",
    "lasso_reg_mae = pd.DataFrame(lasso_reg_mae.cv_results_)\n",
    "lasso_reg_mae['alpha_range'] = [0.0e+00, 1.0e-06, 2.0e-06, 3.0e-06, 4.0e-06, 5.0e-06, 6.0e-06,\n",
    "       7.0e-06, 8.0e-06, 9.0e-06, 1.0e-05, 1.1e-05, 1.2e-05, 1.3e-05,\n",
    "       1.4e-05, 1.5e-05, 1.6e-05, 1.7e-05, 1.8e-05, 1.9e-05]\n",
    "#lasso_reg_mae[['alpha_range','mean_test_score']]\n",
    "#Plot of sr_rmse_lasso\n",
    "plt.plot(lasso_reg_mae['alpha_range'],lasso_reg_mae['mean_test_score'] , label = 'MAE')\n",
    "plt.legend()\n",
    "plt.title('Lasso Regression MAE')\n",
    "plt.show()"
   ]
  },
  {
   "cell_type": "code",
   "execution_count": 27,
   "metadata": {},
   "outputs": [
    {
     "data": {
      "image/png": "[encoded data removed]",
      "text/plain": [
       "<Figure size 432x288 with 1 Axes>"
      ]
     },
     "metadata": {
      "needs_background": "light"
     },
     "output_type": "display_data"
    }
   ],
   "source": [
    "#Comparative plot of lasso regression on MAE & RMSE...\n",
    "plt.plot(lasso_reg_mae['alpha_range'],lasso_reg_mae['mean_test_score'] , label = \"mae\")\n",
    "plt.plot(lasso_reg_rmse['alpha_range'],lasso_reg_rmse['mean_test_score'] , label = \"rmse\")\n",
    "plt.xlabel('alpha')\n",
    "plt.ylabel('score')\n",
    "plt.title('Comparative Lasso Regression')\n",
    "plt.legend()\n",
    "plt.show()"
   ]
  },
  {
   "cell_type": "markdown",
   "metadata": {},
   "source": [
    "b) What is the optimal alpha parameter? Which features are most predictive if you use this alpha? Use a bar plot or horizontal bar plot to show the non-zero coefficients."
   ]
  },
  {
   "cell_type": "markdown",
   "metadata": {},
   "source": [
    "The optimal alpha parameter is 1.9e-05 and there are roughly 10 out of 93 features that are the most predictive when using this alpha.. Results are shown below... "
   ]
  },
  {
   "cell_type": "code",
   "execution_count": 28,
   "metadata": {},
   "outputs": [
    {
     "data": {
      "image/png": "[encoded data removed]",
      "text/plain": [
       "<Figure size 432x288 with 1 Axes>"
      ]
     },
     "metadata": {
      "needs_background": "light"
     },
     "output_type": "display_data"
    }
   ],
   "source": [
    "#Fitting lasso model with optimal alpha (under RMSE) found on previous step... \n",
    "lassoReg = Lasso(alpha = 1.9e-04)\n",
    "lassoReg.fit(X_train_scaled,y_train)\n",
    "pred = lassoReg.predict(X_test_scaled)\n",
    "#Outputting lasso regression coefficients along with features and plotting to see which feature has more predictive power... \n",
    "df_coeff_lasso = pd.DataFrame({'features':np.arange(0,93,1), 'coeff_lasso':lassoReg.coef_})\n",
    "#df_coeff_lasso.to_csv('feat_lasso.csv')\n",
    "#Plotting \n",
    "df_coeff_lasso.plot.barh(x = 'features' , y = 'coeff_lasso' , align = \"center\" , alpha = 0.9, color = 'red')\n",
    "plt.title('Lasso Coefficients')\n",
    "plt.show()"
   ]
  },
  {
   "cell_type": "markdown",
   "metadata": {},
   "source": [
    "Feature 7 corresponds to 1 month momentum, feature 87 corresponds to illiquidity... "
   ]
  },
  {
   "cell_type": "markdown",
   "metadata": {},
   "source": [
    " c)Briefly discuss your findings using 1 or 2 features an investor might find interesting. It is not expected of you to discuss all selected features.\n"
   ]
  },
  {
   "cell_type": "markdown",
   "metadata": {},
   "source": [
    "My findings are that the two most predictive features that positively impact the cross section of stock returns are 1 month momentum (mom1m) and illiquidity (ill). Results suggest both of these features positively impact the cross section of stock returns and are aligned with theory. On the one hand Jegadeesh & Titman find that trading in short term momentum positively impacts returns, which aligns with the feature I find most predictive. On the other hand, as iliquidity is higher (generally characterized on small cap firms), then average stock returns are higher as well, which is in line with the small-big Fama French Factor model... \n"
   ]
  },
  {
   "cell_type": "markdown",
   "metadata": {},
   "source": [
    "# Question 4 [15P]\n",
    "\n",
    "The `RandomForestRegressor` is a powerful way to combine DecisionTrees in an ensemble approach. This combined method introduces several new hyperparameters, such as `n_estimators`, `max_depth`, `min_samples_leaf` (see [sklearn documentation](https://scikit-learn.org/stable/modules/generated/sklearn.ensemble.RandomForestRegressor.html) for the full list with descriptions). \n",
    "\n",
    "**a)**\n",
    "Select two hyperparameters (**for example** `param1=max_features` and `param2=max_depth`) that you believe are worth conducting an [exhaustive grid search](https://scikit-learn.org/stable/modules/grid_search.html#grid-search) over. Describe which hyperparameters you picked and why you picked them. Also define a sensible grid size and resolution to conduct the gridsearch over.\n",
    "\n",
    "**Hint**  \n",
    "If the resolution is too coarse or the grid too small, you may not find the optimal value. If the grid is too fine or the grid too large, computation times may become too high. \n",
    "\n",
    "**Hint**  \n",
    "Set the parameter `criterion` such that it is consistent with your cross validator scoring method.\n",
    "\n",
    "**b)**\n",
    "`RandomForestRegressor` has another parameter called `random_state`. How do you treat this hyperparameter? Do you leave the default value? Can you select it as either `param1` or `param2`?\n",
    "\n",
    "**c)**\n",
    "Conduct the grid search and use the same cross validation approach as for Ridge and Lasso. At the end you should have a DataFrame with `param` on its index, `param2` on its columns and contains the average test scores as values.   \n",
    "\n",
    "To visualize your results, import the function `plot_heatmap` from `lib.plots`. To see how to use it, follow the example below or type in `help(plot_heatmap)`. If you have difficulties with the function, you can also choose another way to visualize your results.\n",
    "\n",
    "```python\n",
    "# make sure that the folder lib is in the same folder as this notebook!\n",
    "from lib.plots import plot_heatmap\n",
    "\n",
    "# generate some random data\n",
    "df_example = pd.DataFrame(\n",
    "    np.random.randn(24,20)**2,\n",
    ")\n",
    "\n",
    "# plot the heatmap\n",
    "plot_heatmap(df_example)\n",
    "```\n",
    "\n",
    "**d)**\n",
    "Discuss your results of the `RandomForestRegressor`. Does it perform better than `Ridge` or `Lasso`? Why or why not?"
   ]
  },
  {
   "cell_type": "markdown",
   "metadata": {},
   "source": [
    "<div style=\"color:blue; border-bottom: 7px solid rgba(0,0,255,.3); line-height:36pt; font-size:185.7%; font-weight:bold; padding-left:.3em;\">Answer</div>"
   ]
  },
  {
   "cell_type": "markdown",
   "metadata": {},
   "source": [
    "a) Select two hyperparameters (for example param1=max_features and param2=max_depth) that you believe are worth conducting an exhaustive grid search over. Describe which hyperparameters you picked and why you picked them. Also define a sensible grid size and resolution to conduct the gridsearch over.\n"
   ]
  },
  {
   "cell_type": "code",
   "execution_count": 29,
   "metadata": {},
   "outputs": [
    {
     "name": "stdout",
     "output_type": "stream",
     "text": [
      "Parameters currently in use:\n",
      "\n",
      "{'bootstrap': True, 'ccp_alpha': 0.0, 'criterion': 'mae', 'max_depth': None, 'max_features': 'auto', 'max_leaf_nodes': None, 'max_samples': None, 'min_impurity_decrease': 0.0, 'min_impurity_split': None, 'min_samples_leaf': 1, 'min_samples_split': 2, 'min_weight_fraction_leaf': 0.0, 'n_estimators': 100, 'n_jobs': None, 'oob_score': False, 'random_state': 4, 'verbose': 0, 'warm_start': False}\n"
     ]
    }
   ],
   "source": [
    "from sklearn.ensemble import RandomForestRegressor\n",
    "rfr_model = RandomForestRegressor(random_state = 4, criterion = 'mae')\n",
    "print('Parameters currently in use:\\n')\n",
    "print(rfr_model.get_params())"
   ]
  },
  {
   "cell_type": "markdown",
   "metadata": {},
   "source": [
    "My answer: \n",
    "I selected the max_depth and max_features hyperparameters to conduct an exhaustive grid search. \n",
    "The max_depth controls the maximum depth or number of split points in tree, thus, contributing to reducing overfitting by limiting the growth of the tree. Other ways of reducing overfitting are using the max_leaf_nodes or min_samples_split or min_samples_leaf, but including them together with the max_depth would be redundant given one of the parameters (in this case max_depth) will do the job of reducing overfiting. \n",
    "The second hyperparameter chosen was the max_features which evaluates the maximum number of features considered for splitting a node. I chose this hyperparameter given I consider of high relevance the # of features to be included in the model.. "
   ]
  },
  {
   "cell_type": "markdown",
   "metadata": {},
   "source": [
    "b)RandomForestRegressor has another parameter called random_state. How do you treat this hyperparameter? Do you leave the default value? Can you select it as either param1 or param2?"
   ]
  },
  {
   "cell_type": "markdown",
   "metadata": {},
   "source": [
    "My answer: The random state is not considered a hyperparameter and should not be tunned. The random state sets a seed to the random generator to yield a fixed or deterministic train/test split outcome. If no seed is set, the outcome of the model will vary. So generally, would be a good practice to randomly select a seed and use this same seed throughout the project. "
   ]
  },
  {
   "cell_type": "markdown",
   "metadata": {},
   "source": [
    "c)Conduct the grid search and use the same cross validation approach as for Ridge and Lasso. At the end you should have a DataFrame with param on its index, param2 on its columns and contains the average test scores as values.\n"
   ]
  },
  {
   "cell_type": "code",
   "execution_count": 30,
   "metadata": {},
   "outputs": [
    {
     "name": "stdout",
     "output_type": "stream",
     "text": [
      "Fitting 5 folds for each of 144 candidates, totalling 720 fits\n",
      "{'max_depth': 10, 'max_features': 50}\n",
      "-0.009997591954440391\n"
     ]
    }
   ],
   "source": [
    "#Keep in mind the fit of this model takes a while to calculate...\n",
    "from sklearn.model_selection import GridSearchCV\n",
    "#Select two hyperparameters and create parameter grid... \n",
    "param_grid_rf = {\n",
    "    'max_depth': [1,5,7,10,20,25,30,35,40,45,50,55],\n",
    "    'max_features': [1,2,4, 6,10,15,18,23,30,40,45,50]             }\n",
    "# Instantiate the grid search model\n",
    "rf_reg_mae = GridSearchCV(estimator = rfr_model, param_grid = param_grid_rf, \n",
    "                          cv = 5, n_jobs = -1, verbose = 2 , scoring = \"neg_root_mean_squared_error\") ##Using RMSE...\n",
    "rf_reg_mae.fit(X_train_scaled,y_train)\n",
    "\n",
    "\n",
    "print(rf_reg_mae.best_params_)\n",
    "print(rf_reg_mae.best_score_)"
   ]
  },
  {
   "cell_type": "code",
   "execution_count": 31,
   "metadata": {},
   "outputs": [
    {
     "data": {
      "text/html": [
       "<div>\n",
       "<style scoped>\n",
       "    .dataframe tbody tr th:only-of-type {\n",
       "        vertical-align: middle;\n",
       "    }\n",
       "\n",
       "    .dataframe tbody tr th {\n",
       "        vertical-align: top;\n",
       "    }\n",
       "\n",
       "    .dataframe thead tr th {\n",
       "        text-align: left;\n",
       "    }\n",
       "\n",
       "    .dataframe thead tr:last-of-type th {\n",
       "        text-align: right;\n",
       "    }\n",
       "</style>\n",
       "<table border=\"1\" class=\"dataframe\">\n",
       "  <thead>\n",
       "    <tr>\n",
       "      <th></th>\n",
       "      <th colspan=\"12\" halign=\"left\">mean_test_score</th>\n",
       "    </tr>\n",
       "    <tr>\n",
       "      <th>param_max_features</th>\n",
       "      <th>1</th>\n",
       "      <th>2</th>\n",
       "      <th>4</th>\n",
       "      <th>6</th>\n",
       "      <th>10</th>\n",
       "      <th>15</th>\n",
       "      <th>18</th>\n",
       "      <th>23</th>\n",
       "      <th>30</th>\n",
       "      <th>40</th>\n",
       "      <th>45</th>\n",
       "      <th>50</th>\n",
       "    </tr>\n",
       "    <tr>\n",
       "      <th>param_max_depth</th>\n",
       "      <th></th>\n",
       "      <th></th>\n",
       "      <th></th>\n",
       "      <th></th>\n",
       "      <th></th>\n",
       "      <th></th>\n",
       "      <th></th>\n",
       "      <th></th>\n",
       "      <th></th>\n",
       "      <th></th>\n",
       "      <th></th>\n",
       "      <th></th>\n",
       "    </tr>\n",
       "  </thead>\n",
       "  <tbody>\n",
       "    <tr>\n",
       "      <th>1</th>\n",
       "      <td>-0.015055</td>\n",
       "      <td>-0.014854</td>\n",
       "      <td>-0.014526</td>\n",
       "      <td>-0.014297</td>\n",
       "      <td>-0.013900</td>\n",
       "      <td>-0.013378</td>\n",
       "      <td>-0.013158</td>\n",
       "      <td>-0.012953</td>\n",
       "      <td>-0.012567</td>\n",
       "      <td>-0.012281</td>\n",
       "      <td>-0.012159</td>\n",
       "      <td>-0.012125</td>\n",
       "    </tr>\n",
       "    <tr>\n",
       "      <th>5</th>\n",
       "      <td>-0.014255</td>\n",
       "      <td>-0.013604</td>\n",
       "      <td>-0.012798</td>\n",
       "      <td>-0.012226</td>\n",
       "      <td>-0.011910</td>\n",
       "      <td>-0.011330</td>\n",
       "      <td>-0.010907</td>\n",
       "      <td>-0.011011</td>\n",
       "      <td>-0.010406</td>\n",
       "      <td>-0.010817</td>\n",
       "      <td>-0.010225</td>\n",
       "      <td>-0.010104</td>\n",
       "    </tr>\n",
       "    <tr>\n",
       "      <th>7</th>\n",
       "      <td>-0.013808</td>\n",
       "      <td>-0.013457</td>\n",
       "      <td>-0.012468</td>\n",
       "      <td>-0.012036</td>\n",
       "      <td>-0.011384</td>\n",
       "      <td>-0.010827</td>\n",
       "      <td>-0.010936</td>\n",
       "      <td>-0.010759</td>\n",
       "      <td>-0.010302</td>\n",
       "      <td>-0.010684</td>\n",
       "      <td>-0.010193</td>\n",
       "      <td>-0.010105</td>\n",
       "    </tr>\n",
       "    <tr>\n",
       "      <th>10</th>\n",
       "      <td>-0.013723</td>\n",
       "      <td>-0.012908</td>\n",
       "      <td>-0.012151</td>\n",
       "      <td>-0.011685</td>\n",
       "      <td>-0.011073</td>\n",
       "      <td>-0.010840</td>\n",
       "      <td>-0.010707</td>\n",
       "      <td>-0.010750</td>\n",
       "      <td>-0.010367</td>\n",
       "      <td>-0.010761</td>\n",
       "      <td>-0.010121</td>\n",
       "      <td>-0.009998</td>\n",
       "    </tr>\n",
       "    <tr>\n",
       "      <th>20</th>\n",
       "      <td>-0.013367</td>\n",
       "      <td>-0.012939</td>\n",
       "      <td>-0.012117</td>\n",
       "      <td>-0.011594</td>\n",
       "      <td>-0.011047</td>\n",
       "      <td>-0.010842</td>\n",
       "      <td>-0.010854</td>\n",
       "      <td>-0.010765</td>\n",
       "      <td>-0.010400</td>\n",
       "      <td>-0.010733</td>\n",
       "      <td>-0.010172</td>\n",
       "      <td>-0.010129</td>\n",
       "    </tr>\n",
       "    <tr>\n",
       "      <th>25</th>\n",
       "      <td>-0.013420</td>\n",
       "      <td>-0.012838</td>\n",
       "      <td>-0.012154</td>\n",
       "      <td>-0.011570</td>\n",
       "      <td>-0.011031</td>\n",
       "      <td>-0.010840</td>\n",
       "      <td>-0.010847</td>\n",
       "      <td>-0.010760</td>\n",
       "      <td>-0.010399</td>\n",
       "      <td>-0.010733</td>\n",
       "      <td>-0.010172</td>\n",
       "      <td>-0.010127</td>\n",
       "    </tr>\n",
       "    <tr>\n",
       "      <th>30</th>\n",
       "      <td>-0.013456</td>\n",
       "      <td>-0.012845</td>\n",
       "      <td>-0.012149</td>\n",
       "      <td>-0.011567</td>\n",
       "      <td>-0.011031</td>\n",
       "      <td>-0.010840</td>\n",
       "      <td>-0.010847</td>\n",
       "      <td>-0.010760</td>\n",
       "      <td>-0.010399</td>\n",
       "      <td>-0.010733</td>\n",
       "      <td>-0.010172</td>\n",
       "      <td>-0.010127</td>\n",
       "    </tr>\n",
       "    <tr>\n",
       "      <th>35</th>\n",
       "      <td>-0.013455</td>\n",
       "      <td>-0.012846</td>\n",
       "      <td>-0.012149</td>\n",
       "      <td>-0.011567</td>\n",
       "      <td>-0.011031</td>\n",
       "      <td>-0.010840</td>\n",
       "      <td>-0.010847</td>\n",
       "      <td>-0.010760</td>\n",
       "      <td>-0.010399</td>\n",
       "      <td>-0.010733</td>\n",
       "      <td>-0.010172</td>\n",
       "      <td>-0.010127</td>\n",
       "    </tr>\n",
       "    <tr>\n",
       "      <th>40</th>\n",
       "      <td>-0.013455</td>\n",
       "      <td>-0.012846</td>\n",
       "      <td>-0.012149</td>\n",
       "      <td>-0.011567</td>\n",
       "      <td>-0.011031</td>\n",
       "      <td>-0.010840</td>\n",
       "      <td>-0.010847</td>\n",
       "      <td>-0.010760</td>\n",
       "      <td>-0.010399</td>\n",
       "      <td>-0.010733</td>\n",
       "      <td>-0.010172</td>\n",
       "      <td>-0.010127</td>\n",
       "    </tr>\n",
       "    <tr>\n",
       "      <th>45</th>\n",
       "      <td>-0.013455</td>\n",
       "      <td>-0.012846</td>\n",
       "      <td>-0.012149</td>\n",
       "      <td>-0.011567</td>\n",
       "      <td>-0.011031</td>\n",
       "      <td>-0.010840</td>\n",
       "      <td>-0.010847</td>\n",
       "      <td>-0.010760</td>\n",
       "      <td>-0.010399</td>\n",
       "      <td>-0.010733</td>\n",
       "      <td>-0.010172</td>\n",
       "      <td>-0.010127</td>\n",
       "    </tr>\n",
       "    <tr>\n",
       "      <th>50</th>\n",
       "      <td>-0.013455</td>\n",
       "      <td>-0.012846</td>\n",
       "      <td>-0.012149</td>\n",
       "      <td>-0.011567</td>\n",
       "      <td>-0.011031</td>\n",
       "      <td>-0.010840</td>\n",
       "      <td>-0.010847</td>\n",
       "      <td>-0.010760</td>\n",
       "      <td>-0.010399</td>\n",
       "      <td>-0.010733</td>\n",
       "      <td>-0.010172</td>\n",
       "      <td>-0.010127</td>\n",
       "    </tr>\n",
       "    <tr>\n",
       "      <th>55</th>\n",
       "      <td>-0.013455</td>\n",
       "      <td>-0.012846</td>\n",
       "      <td>-0.012149</td>\n",
       "      <td>-0.011567</td>\n",
       "      <td>-0.011031</td>\n",
       "      <td>-0.010840</td>\n",
       "      <td>-0.010847</td>\n",
       "      <td>-0.010760</td>\n",
       "      <td>-0.010399</td>\n",
       "      <td>-0.010733</td>\n",
       "      <td>-0.010172</td>\n",
       "      <td>-0.010127</td>\n",
       "    </tr>\n",
       "  </tbody>\n",
       "</table>\n",
       "</div>"
      ],
      "text/plain": [
       "                   mean_test_score                                          \\\n",
       "param_max_features              1         2         4         6         10   \n",
       "param_max_depth                                                              \n",
       "1                        -0.015055 -0.014854 -0.014526 -0.014297 -0.013900   \n",
       "5                        -0.014255 -0.013604 -0.012798 -0.012226 -0.011910   \n",
       "7                        -0.013808 -0.013457 -0.012468 -0.012036 -0.011384   \n",
       "10                       -0.013723 -0.012908 -0.012151 -0.011685 -0.011073   \n",
       "20                       -0.013367 -0.012939 -0.012117 -0.011594 -0.011047   \n",
       "25                       -0.013420 -0.012838 -0.012154 -0.011570 -0.011031   \n",
       "30                       -0.013456 -0.012845 -0.012149 -0.011567 -0.011031   \n",
       "35                       -0.013455 -0.012846 -0.012149 -0.011567 -0.011031   \n",
       "40                       -0.013455 -0.012846 -0.012149 -0.011567 -0.011031   \n",
       "45                       -0.013455 -0.012846 -0.012149 -0.011567 -0.011031   \n",
       "50                       -0.013455 -0.012846 -0.012149 -0.011567 -0.011031   \n",
       "55                       -0.013455 -0.012846 -0.012149 -0.011567 -0.011031   \n",
       "\n",
       "                                                                      \\\n",
       "param_max_features        15        18        23        30        40   \n",
       "param_max_depth                                                        \n",
       "1                  -0.013378 -0.013158 -0.012953 -0.012567 -0.012281   \n",
       "5                  -0.011330 -0.010907 -0.011011 -0.010406 -0.010817   \n",
       "7                  -0.010827 -0.010936 -0.010759 -0.010302 -0.010684   \n",
       "10                 -0.010840 -0.010707 -0.010750 -0.010367 -0.010761   \n",
       "20                 -0.010842 -0.010854 -0.010765 -0.010400 -0.010733   \n",
       "25                 -0.010840 -0.010847 -0.010760 -0.010399 -0.010733   \n",
       "30                 -0.010840 -0.010847 -0.010760 -0.010399 -0.010733   \n",
       "35                 -0.010840 -0.010847 -0.010760 -0.010399 -0.010733   \n",
       "40                 -0.010840 -0.010847 -0.010760 -0.010399 -0.010733   \n",
       "45                 -0.010840 -0.010847 -0.010760 -0.010399 -0.010733   \n",
       "50                 -0.010840 -0.010847 -0.010760 -0.010399 -0.010733   \n",
       "55                 -0.010840 -0.010847 -0.010760 -0.010399 -0.010733   \n",
       "\n",
       "                                        \n",
       "param_max_features        45        50  \n",
       "param_max_depth                         \n",
       "1                  -0.012159 -0.012125  \n",
       "5                  -0.010225 -0.010104  \n",
       "7                  -0.010193 -0.010105  \n",
       "10                 -0.010121 -0.009998  \n",
       "20                 -0.010172 -0.010129  \n",
       "25                 -0.010172 -0.010127  \n",
       "30                 -0.010172 -0.010127  \n",
       "35                 -0.010172 -0.010127  \n",
       "40                 -0.010172 -0.010127  \n",
       "45                 -0.010172 -0.010127  \n",
       "50                 -0.010172 -0.010127  \n",
       "55                 -0.010172 -0.010127  "
      ]
     },
     "execution_count": 31,
     "metadata": {},
     "output_type": "execute_result"
    }
   ],
   "source": [
    "#Visualize results of fit and include a matrix of two hyperparameters to be plotted using heatmap... \n",
    "df_rf = pd.DataFrame(rf_reg_mae.cv_results_)\n",
    "df_rf_sub = df_rf[['param_max_depth','param_max_features','mean_test_score']]\n",
    "#df_rf_sub = df_rf_sub.set_index('param_max_depth')\n",
    "df_rf_sub.set_index('param_max_depth')\n",
    "df_rf_sub= pd.pivot_table(df_rf_sub, index = 'param_max_depth' , columns = ['param_max_features'] , aggfunc = max)\n",
    "df_rf_sub"
   ]
  },
  {
   "cell_type": "code",
   "execution_count": 32,
   "metadata": {},
   "outputs": [
    {
     "data": {
      "text/plain": [
       "Text(33.0, 0.5, 'Max Depth')"
      ]
     },
     "execution_count": 32,
     "metadata": {},
     "output_type": "execute_result"
    },
    {
     "data": {
      "image/png": "[encoded data removed]",
      "text/plain": [
       "<Figure size 432x288 with 2 Axes>"
      ]
     },
     "metadata": {
      "needs_background": "light"
     },
     "output_type": "display_data"
    }
   ],
   "source": [
    "#Plot Hyperparameters max depth and max features to visualize grid results\n",
    "import seaborn as sns\n",
    "ax = sns.heatmap(df_rf_sub)\n",
    "ax.set_title('RFR RMSE Performance based on Grid of Selected Hyperparameters')\n",
    "plt.xlabel('Features')\n",
    "plt.ylabel('Max Depth')"
   ]
  },
  {
   "cell_type": "markdown",
   "metadata": {},
   "source": [
    "d) Discuss your results of the RandomForestRegressor. Does it perform better than Ridge or Lasso? Why or why not?\n"
   ]
  },
  {
   "cell_type": "markdown",
   "metadata": {},
   "source": [
    "My Answer..... \n",
    "The RFR performs better than the Lasso and slightly worse than the ridge as measured by the RMSE scores in each one of the three models. The main advantage ofthe Random Forest is that it reduces overfitting by averaging several trees. Nevertheless, the disadvantage of random forest regressor is that is more complex and computationally expensive when compared to lasso and ridge. \n",
    "\n",
    "The RFR, given the nature of the tree, does not allow for an clear path to feature selection, thus, making it difficult to come up with the most adequate number of features when compared to the lasso regression which is equipped for feature selection. To circumvent this issue in RFR, a grid search based on both max_depth (to restrict tree growth) and number of features was conducted to come up with optimized values for these two hyperparameters. As a result of the exhaustive grid, the RFR algorithm was able to outperform the lasso model as measured by RMSE scores. \n"
   ]
  },
  {
   "cell_type": "markdown",
   "metadata": {},
   "source": [
    "# Question 5 [20P]\n",
    "\n",
    "We now switch to an entirely different perspective. Before we tried to understand how firm characteristics explain the cross-sectional variation of returns. Now we try to forecast the returns of an equally-weighted stock index $I_t$ one period ahead. This stock index is the simple average of the returns you have selected before. \n",
    "\n",
    "$$\n",
    "I_t = \\frac{1}{N} \\sum_i r_{it}\n",
    "$$\n",
    "\n",
    "To forecast $I_t$ we use the [25 Fama-French double-sorted portfolios](http://mba.tuck.dartmouth.edu/pages/faculty/ken.french/Data_Library/tw_5_ports.html). The underlying model is\n",
    "$$\n",
    "I_t = F_{t-1}\\lambda + u_t\n",
    "$$\n",
    "\n",
    "where $F_t$ is are the values of the 25 Fama-French portfolios at time $t$. The vector $\\lambda$ has 25 coefficients. \n",
    "\n",
    "**a)**\n",
    "In order to forecast, you could simply estimate the model above using OLS. Why is that not a good idea if the ultimate goal is forecasting? Why is it better to use `Ridge`, `Lasso` or an `RandomForestRegressor`?\n",
    "\n",
    "**b)** \n",
    "Compute the stock index $I_t$ and call it `sr_index`. Load the following predictors \n",
    "* `25_Portfolios_5x5.csv`\n",
    "* `10_Industry_Portfolios.csv`\n",
    "* `F-F_Momentum_Factor.csv`\n",
    "* `F-F_Research_Data_5_Factors_2x3.csv`\n",
    "\n",
    "and store the contents in a dataframe `df_predictors`. These are end-of-month values and have to be lagged by one month.\n",
    "\n",
    "**c)**\n",
    "Produce three graphs. The first graph should be comparable to the `Lasso` graph in Question 2c. The second graph should be comparable to the `Ridge` graph in Question 3a. Third, plot a heatmap for this forecasting problem using `RandomForestRegressor`, comparable to Question 4. Do you keep the same cross validator as before?\n",
    "\n",
    "**d)**\n",
    "Discuss your results of the `RandomForestRegressor`. Does it perform better than `Ridge` or `Lasso` for this forecasting problem? Why or why not?\n",
    "\n",
    "**e)**\n",
    "Are the heatmaps from Question 4 and 5c different from each other? Are they comparable or entirely different? Explain your findings."
   ]
  },
  {
   "cell_type": "markdown",
   "metadata": {},
   "source": [
    "<div style=\"color:blue; border-bottom: 7px solid rgba(0,0,255,.3); line-height:36pt; font-size:185.7%; font-weight:bold; padding-left:.3em;\">Answer</div>"
   ]
  },
  {
   "cell_type": "markdown",
   "metadata": {},
   "source": [
    "a) In order to forecast, you could simply estimate the model above using OLS. Why is that not a good idea if the ultimate goal is forecasting? Why is it better to use Ridge, Lasso or an RandomForestRegressor?"
   ]
  },
  {
   "cell_type": "markdown",
   "metadata": {},
   "source": [
    "If the ultimate goal is forecasting, or making accurate predictions in this case of the continuous variable stock return, then a simple linear regression is not the optimal algorithm of choice. The reason is because when using OLS, the model predictions are prone to overfitting and multicollinearity issues may come as a result of doing OLS in the case your dataset contains a significant amount of features. \n",
    "Ridge and Lasso regressions capture this weakness in OLS by adding a penalization to coefficients which can result in removing unnecesary features (features that do not add to the explanatory or predictive power) and also discouraging the use of large coefficients. The ridge regression contributes to feature \"shrinkage\" which leads to smaller coefficients, while the lasso regression contributes to automatic feature selection given it can completely remove features and leave only the most predictive ones. Random forest algorithms also lead to feature selection by training on a random subset of observations (bootstrapping or resampling method) and have a number of hyperparameters to be tunned, after correctly tunning, it can even outperform lasso and ridge regression models. "
   ]
  },
  {
   "cell_type": "markdown",
   "metadata": {},
   "source": [
    "b) Compute the stock index  𝐼𝑡  and call it sr_index. Load the following predictors These are end-of-month values and have to be lagged by one month.\n"
   ]
  },
  {
   "cell_type": "code",
   "execution_count": 33,
   "metadata": {},
   "outputs": [],
   "source": [
    "#Compute the Stock Index by grouping by date(month) and taking mean of stock returns... \n",
    "sr_index = df_merged.groupby('date_x')[['RET']].mean().reset_index()\n",
    "sr_index.head()\n",
    "#Converting date to year_month to merge dataframe with df_predictors\n",
    "sr_index['year'] = pd.DatetimeIndex(sr_index['date_x']).year\n",
    "sr_index['month'] = pd.DatetimeIndex(sr_index['date_x']).month\n",
    "sr_index['month'] = sr_index.month.map(\"{:02}\".format)\n",
    "sr_index['year_mo'] = sr_index['year'].map(str) + sr_index['month'].map(str)\n",
    "sr_index['year_mo'] = sr_index['year_mo'].astype(str).astype(int)\n",
    "#sr_index.head()"
   ]
  },
  {
   "cell_type": "code",
   "execution_count": 34,
   "metadata": {},
   "outputs": [],
   "source": [
    "#Loading 4 datasets of predictors........ \n",
    "path3 = os.path.join('data','10_Industry_Portfolios.csv')\n",
    "Industry_Portfolios = pd.read_csv(path3)\n",
    "Industry_Portfolios.rename( columns={'Unnamed: 0':'year_mo'}, inplace=True )\n",
    "path4 = os.path.join('data','25_Portfolios_5x5.csv')\n",
    "Portfolios_5x5 = pd.read_csv(path4)\n",
    "Portfolios_5x5.rename( columns={'Unnamed: 0':'year_mo'}, inplace=True )\n",
    "path5 = os.path.join('data','F-F_Momentum_Factor.csv')\n",
    "FF_Mom_Factor = pd.read_csv(path5)\n",
    "FF_Mom_Factor.rename(columns={'Unnamed: 0':'year_mo'}, inplace=True )\n",
    "path6 = os.path.join('data','F-F_Research_Data_5_Factors_2x3.csv')\n",
    "FF_Res_5_Factor = pd.read_csv(path6)\n",
    "FF_Res_5_Factor.rename(columns={'Unnamed: 0':'year_mo'}, inplace=True )"
   ]
  },
  {
   "cell_type": "code",
   "execution_count": 35,
   "metadata": {},
   "outputs": [],
   "source": [
    "#Merging all predictors into 1 single dataframe using outer join... \n",
    "from functools import reduce\n",
    "df_pred  = [FF_Mom_Factor,FF_Res_5_Factor,Portfolios_5x5,Industry_Portfolios]\n",
    "df_predictors = reduce(lambda left,right: pd.merge(left,right,on='year_mo', how = 'outer'), df_pred)\n",
    "#df_predictors.head()\n",
    "#Subsetting data only for the period corresponding to stock index \"it\".. \n",
    "sub_Crit = df_predictors['year_mo']>=199912\n",
    "df_predictors = df_predictors[sub_Crit]\n",
    "#df_predictors.head()\n",
    "#df_predictors.dtypes"
   ]
  },
  {
   "cell_type": "code",
   "execution_count": 36,
   "metadata": {},
   "outputs": [
    {
     "data": {
      "text/html": [
       "<div>\n",
       "<style scoped>\n",
       "    .dataframe tbody tr th:only-of-type {\n",
       "        vertical-align: middle;\n",
       "    }\n",
       "\n",
       "    .dataframe tbody tr th {\n",
       "        vertical-align: top;\n",
       "    }\n",
       "\n",
       "    .dataframe thead th {\n",
       "        text-align: right;\n",
       "    }\n",
       "</style>\n",
       "<table border=\"1\" class=\"dataframe\">\n",
       "  <thead>\n",
       "    <tr style=\"text-align: right;\">\n",
       "      <th></th>\n",
       "      <th>date_x</th>\n",
       "      <th>RET</th>\n",
       "      <th>year</th>\n",
       "      <th>month</th>\n",
       "      <th>year_mo</th>\n",
       "      <th>Mom</th>\n",
       "      <th>Mkt-RF</th>\n",
       "      <th>SMB</th>\n",
       "      <th>HML</th>\n",
       "      <th>RMW</th>\n",
       "      <th>...</th>\n",
       "      <th>NoDur</th>\n",
       "      <th>Durbl</th>\n",
       "      <th>Manuf</th>\n",
       "      <th>Enrgy</th>\n",
       "      <th>HiTec</th>\n",
       "      <th>Telcm</th>\n",
       "      <th>Shops</th>\n",
       "      <th>Hlth</th>\n",
       "      <th>Utils</th>\n",
       "      <th>Other</th>\n",
       "    </tr>\n",
       "  </thead>\n",
       "  <tbody>\n",
       "    <tr>\n",
       "      <th>0</th>\n",
       "      <td>2000-01-31</td>\n",
       "      <td>0.047656</td>\n",
       "      <td>2000</td>\n",
       "      <td>01</td>\n",
       "      <td>200001</td>\n",
       "      <td>1.86</td>\n",
       "      <td>-4.74</td>\n",
       "      <td>4.15</td>\n",
       "      <td>-0.29</td>\n",
       "      <td>-6.05</td>\n",
       "      <td>...</td>\n",
       "      <td>-4.77</td>\n",
       "      <td>-0.87</td>\n",
       "      <td>-7.99</td>\n",
       "      <td>0.90</td>\n",
       "      <td>-4.71</td>\n",
       "      <td>-4.04</td>\n",
       "      <td>-11.23</td>\n",
       "      <td>7.56</td>\n",
       "      <td>5.75</td>\n",
       "      <td>-4.64</td>\n",
       "    </tr>\n",
       "    <tr>\n",
       "      <th>1</th>\n",
       "      <td>2000-02-29</td>\n",
       "      <td>0.090212</td>\n",
       "      <td>2000</td>\n",
       "      <td>02</td>\n",
       "      <td>200002</td>\n",
       "      <td>18.36</td>\n",
       "      <td>2.45</td>\n",
       "      <td>18.32</td>\n",
       "      <td>-9.93</td>\n",
       "      <td>-18.33</td>\n",
       "      <td>...</td>\n",
       "      <td>-6.19</td>\n",
       "      <td>-7.95</td>\n",
       "      <td>-4.24</td>\n",
       "      <td>-5.44</td>\n",
       "      <td>18.18</td>\n",
       "      <td>-3.59</td>\n",
       "      <td>-3.86</td>\n",
       "      <td>-2.88</td>\n",
       "      <td>-7.26</td>\n",
       "      <td>-6.98</td>\n",
       "    </tr>\n",
       "    <tr>\n",
       "      <th>2</th>\n",
       "      <td>2000-03-31</td>\n",
       "      <td>0.044422</td>\n",
       "      <td>2000</td>\n",
       "      <td>03</td>\n",
       "      <td>200003</td>\n",
       "      <td>-6.39</td>\n",
       "      <td>5.20</td>\n",
       "      <td>-14.91</td>\n",
       "      <td>7.38</td>\n",
       "      <td>11.68</td>\n",
       "      <td>...</td>\n",
       "      <td>7.74</td>\n",
       "      <td>10.51</td>\n",
       "      <td>8.36</td>\n",
       "      <td>12.26</td>\n",
       "      <td>3.95</td>\n",
       "      <td>7.57</td>\n",
       "      <td>13.28</td>\n",
       "      <td>0.28</td>\n",
       "      <td>5.77</td>\n",
       "      <td>14.12</td>\n",
       "    </tr>\n",
       "    <tr>\n",
       "      <th>3</th>\n",
       "      <td>2000-04-28</td>\n",
       "      <td>-0.047747</td>\n",
       "      <td>2000</td>\n",
       "      <td>04</td>\n",
       "      <td>200004</td>\n",
       "      <td>-8.58</td>\n",
       "      <td>-6.40</td>\n",
       "      <td>-5.55</td>\n",
       "      <td>8.61</td>\n",
       "      <td>7.55</td>\n",
       "      <td>...</td>\n",
       "      <td>-1.82</td>\n",
       "      <td>9.27</td>\n",
       "      <td>0.96</td>\n",
       "      <td>-1.98</td>\n",
       "      <td>-10.69</td>\n",
       "      <td>-7.90</td>\n",
       "      <td>-4.27</td>\n",
       "      <td>5.25</td>\n",
       "      <td>7.60</td>\n",
       "      <td>-3.41</td>\n",
       "    </tr>\n",
       "    <tr>\n",
       "      <th>4</th>\n",
       "      <td>2000-05-31</td>\n",
       "      <td>-0.031626</td>\n",
       "      <td>2000</td>\n",
       "      <td>05</td>\n",
       "      <td>200005</td>\n",
       "      <td>-9.08</td>\n",
       "      <td>-4.42</td>\n",
       "      <td>-3.68</td>\n",
       "      <td>2.56</td>\n",
       "      <td>4.63</td>\n",
       "      <td>...</td>\n",
       "      <td>7.22</td>\n",
       "      <td>-13.22</td>\n",
       "      <td>-1.41</td>\n",
       "      <td>9.44</td>\n",
       "      <td>-10.84</td>\n",
       "      <td>-10.41</td>\n",
       "      <td>-2.70</td>\n",
       "      <td>3.94</td>\n",
       "      <td>3.90</td>\n",
       "      <td>3.46</td>\n",
       "    </tr>\n",
       "  </tbody>\n",
       "</table>\n",
       "<p>5 rows × 47 columns</p>\n",
       "</div>"
      ],
      "text/plain": [
       "      date_x       RET  year month  year_mo  Mom     Mkt-RF    SMB   HML  \\\n",
       "0 2000-01-31  0.047656  2000    01   200001    1.86   -4.74   4.15 -0.29   \n",
       "1 2000-02-29  0.090212  2000    02   200002   18.36    2.45  18.32 -9.93   \n",
       "2 2000-03-31  0.044422  2000    03   200003   -6.39    5.20 -14.91  7.38   \n",
       "3 2000-04-28 -0.047747  2000    04   200004   -8.58   -6.40  -5.55  8.61   \n",
       "4 2000-05-31 -0.031626  2000    05   200005   -9.08   -4.42  -3.68  2.56   \n",
       "\n",
       "     RMW  ...  NoDur  Durbl  Manuf  Enrgy  HiTec  Telcm  Shops  Hlth   Utils  \\\n",
       "0  -6.05  ...  -4.77  -0.87  -7.99   0.90  -4.71  -4.04 -11.23   7.56   5.75   \n",
       "1 -18.33  ...  -6.19  -7.95  -4.24  -5.44  18.18  -3.59  -3.86  -2.88  -7.26   \n",
       "2  11.68  ...   7.74  10.51   8.36  12.26   3.95   7.57  13.28   0.28   5.77   \n",
       "3   7.55  ...  -1.82   9.27   0.96  -1.98 -10.69  -7.90  -4.27   5.25   7.60   \n",
       "4   4.63  ...   7.22 -13.22  -1.41   9.44 -10.84 -10.41  -2.70   3.94   3.90   \n",
       "\n",
       "   Other  \n",
       "0  -4.64  \n",
       "1  -6.98  \n",
       "2  14.12  \n",
       "3  -3.41  \n",
       "4   3.46  \n",
       "\n",
       "[5 rows x 47 columns]"
      ]
     },
     "execution_count": 36,
     "metadata": {},
     "output_type": "execute_result"
    }
   ],
   "source": [
    "#Visualizing final dataset merged...\n",
    "df_final = sr_index.merge(df_predictors , on = 'year_mo' , how = 'left')\n",
    "df_final.head()"
   ]
  },
  {
   "cell_type": "code",
   "execution_count": 37,
   "metadata": {},
   "outputs": [],
   "source": [
    "#Shifting dependent variable to represent the lag It+1 = Ft * lambda + ui which is equivalent as It = Ft-1 * lambda + ui\n",
    "df_final['RET_shifted'] = df_final['RET'].shift(-1)"
   ]
  },
  {
   "cell_type": "code",
   "execution_count": 38,
   "metadata": {},
   "outputs": [],
   "source": [
    "#Excluding the risk free rate column given it is not a predictive factor (it is only used to calculate the market premium over the risk free rate)\n",
    "del df_final['RF']"
   ]
  },
  {
   "cell_type": "code",
   "execution_count": 39,
   "metadata": {},
   "outputs": [
    {
     "data": {
      "text/html": [
       "<div>\n",
       "<style scoped>\n",
       "    .dataframe tbody tr th:only-of-type {\n",
       "        vertical-align: middle;\n",
       "    }\n",
       "\n",
       "    .dataframe tbody tr th {\n",
       "        vertical-align: top;\n",
       "    }\n",
       "\n",
       "    .dataframe thead th {\n",
       "        text-align: right;\n",
       "    }\n",
       "</style>\n",
       "<table border=\"1\" class=\"dataframe\">\n",
       "  <thead>\n",
       "    <tr style=\"text-align: right;\">\n",
       "      <th></th>\n",
       "      <th>date_x</th>\n",
       "      <th>RET</th>\n",
       "      <th>year</th>\n",
       "      <th>month</th>\n",
       "      <th>year_mo</th>\n",
       "      <th>Mom</th>\n",
       "      <th>Mkt-RF</th>\n",
       "      <th>SMB</th>\n",
       "      <th>HML</th>\n",
       "      <th>RMW</th>\n",
       "      <th>...</th>\n",
       "      <th>Durbl</th>\n",
       "      <th>Manuf</th>\n",
       "      <th>Enrgy</th>\n",
       "      <th>HiTec</th>\n",
       "      <th>Telcm</th>\n",
       "      <th>Shops</th>\n",
       "      <th>Hlth</th>\n",
       "      <th>Utils</th>\n",
       "      <th>Other</th>\n",
       "      <th>RET_shifted</th>\n",
       "    </tr>\n",
       "  </thead>\n",
       "  <tbody>\n",
       "    <tr>\n",
       "      <th>0</th>\n",
       "      <td>2000-01-31</td>\n",
       "      <td>0.047656</td>\n",
       "      <td>2000</td>\n",
       "      <td>01</td>\n",
       "      <td>200001</td>\n",
       "      <td>1.86</td>\n",
       "      <td>-4.74</td>\n",
       "      <td>4.15</td>\n",
       "      <td>-0.29</td>\n",
       "      <td>-6.05</td>\n",
       "      <td>...</td>\n",
       "      <td>-0.87</td>\n",
       "      <td>-7.99</td>\n",
       "      <td>0.90</td>\n",
       "      <td>-4.71</td>\n",
       "      <td>-4.04</td>\n",
       "      <td>-11.23</td>\n",
       "      <td>7.56</td>\n",
       "      <td>5.75</td>\n",
       "      <td>-4.64</td>\n",
       "      <td>0.090212</td>\n",
       "    </tr>\n",
       "    <tr>\n",
       "      <th>1</th>\n",
       "      <td>2000-02-29</td>\n",
       "      <td>0.090212</td>\n",
       "      <td>2000</td>\n",
       "      <td>02</td>\n",
       "      <td>200002</td>\n",
       "      <td>18.36</td>\n",
       "      <td>2.45</td>\n",
       "      <td>18.32</td>\n",
       "      <td>-9.93</td>\n",
       "      <td>-18.33</td>\n",
       "      <td>...</td>\n",
       "      <td>-7.95</td>\n",
       "      <td>-4.24</td>\n",
       "      <td>-5.44</td>\n",
       "      <td>18.18</td>\n",
       "      <td>-3.59</td>\n",
       "      <td>-3.86</td>\n",
       "      <td>-2.88</td>\n",
       "      <td>-7.26</td>\n",
       "      <td>-6.98</td>\n",
       "      <td>0.044422</td>\n",
       "    </tr>\n",
       "    <tr>\n",
       "      <th>2</th>\n",
       "      <td>2000-03-31</td>\n",
       "      <td>0.044422</td>\n",
       "      <td>2000</td>\n",
       "      <td>03</td>\n",
       "      <td>200003</td>\n",
       "      <td>-6.39</td>\n",
       "      <td>5.20</td>\n",
       "      <td>-14.91</td>\n",
       "      <td>7.38</td>\n",
       "      <td>11.68</td>\n",
       "      <td>...</td>\n",
       "      <td>10.51</td>\n",
       "      <td>8.36</td>\n",
       "      <td>12.26</td>\n",
       "      <td>3.95</td>\n",
       "      <td>7.57</td>\n",
       "      <td>13.28</td>\n",
       "      <td>0.28</td>\n",
       "      <td>5.77</td>\n",
       "      <td>14.12</td>\n",
       "      <td>-0.047747</td>\n",
       "    </tr>\n",
       "    <tr>\n",
       "      <th>3</th>\n",
       "      <td>2000-04-28</td>\n",
       "      <td>-0.047747</td>\n",
       "      <td>2000</td>\n",
       "      <td>04</td>\n",
       "      <td>200004</td>\n",
       "      <td>-8.58</td>\n",
       "      <td>-6.40</td>\n",
       "      <td>-5.55</td>\n",
       "      <td>8.61</td>\n",
       "      <td>7.55</td>\n",
       "      <td>...</td>\n",
       "      <td>9.27</td>\n",
       "      <td>0.96</td>\n",
       "      <td>-1.98</td>\n",
       "      <td>-10.69</td>\n",
       "      <td>-7.90</td>\n",
       "      <td>-4.27</td>\n",
       "      <td>5.25</td>\n",
       "      <td>7.60</td>\n",
       "      <td>-3.41</td>\n",
       "      <td>-0.031626</td>\n",
       "    </tr>\n",
       "    <tr>\n",
       "      <th>4</th>\n",
       "      <td>2000-05-31</td>\n",
       "      <td>-0.031626</td>\n",
       "      <td>2000</td>\n",
       "      <td>05</td>\n",
       "      <td>200005</td>\n",
       "      <td>-9.08</td>\n",
       "      <td>-4.42</td>\n",
       "      <td>-3.68</td>\n",
       "      <td>2.56</td>\n",
       "      <td>4.63</td>\n",
       "      <td>...</td>\n",
       "      <td>-13.22</td>\n",
       "      <td>-1.41</td>\n",
       "      <td>9.44</td>\n",
       "      <td>-10.84</td>\n",
       "      <td>-10.41</td>\n",
       "      <td>-2.70</td>\n",
       "      <td>3.94</td>\n",
       "      <td>3.90</td>\n",
       "      <td>3.46</td>\n",
       "      <td>0.059152</td>\n",
       "    </tr>\n",
       "  </tbody>\n",
       "</table>\n",
       "<p>5 rows × 47 columns</p>\n",
       "</div>"
      ],
      "text/plain": [
       "      date_x       RET  year month  year_mo  Mom     Mkt-RF    SMB   HML  \\\n",
       "0 2000-01-31  0.047656  2000    01   200001    1.86   -4.74   4.15 -0.29   \n",
       "1 2000-02-29  0.090212  2000    02   200002   18.36    2.45  18.32 -9.93   \n",
       "2 2000-03-31  0.044422  2000    03   200003   -6.39    5.20 -14.91  7.38   \n",
       "3 2000-04-28 -0.047747  2000    04   200004   -8.58   -6.40  -5.55  8.61   \n",
       "4 2000-05-31 -0.031626  2000    05   200005   -9.08   -4.42  -3.68  2.56   \n",
       "\n",
       "     RMW  ...  Durbl  Manuf  Enrgy  HiTec  Telcm  Shops  Hlth   Utils  Other  \\\n",
       "0  -6.05  ...  -0.87  -7.99   0.90  -4.71  -4.04 -11.23   7.56   5.75  -4.64   \n",
       "1 -18.33  ...  -7.95  -4.24  -5.44  18.18  -3.59  -3.86  -2.88  -7.26  -6.98   \n",
       "2  11.68  ...  10.51   8.36  12.26   3.95   7.57  13.28   0.28   5.77  14.12   \n",
       "3   7.55  ...   9.27   0.96  -1.98 -10.69  -7.90  -4.27   5.25   7.60  -3.41   \n",
       "4   4.63  ... -13.22  -1.41   9.44 -10.84 -10.41  -2.70   3.94   3.90   3.46   \n",
       "\n",
       "   RET_shifted  \n",
       "0     0.090212  \n",
       "1     0.044422  \n",
       "2    -0.047747  \n",
       "3    -0.031626  \n",
       "4     0.059152  \n",
       "\n",
       "[5 rows x 47 columns]"
      ]
     },
     "execution_count": 39,
     "metadata": {},
     "output_type": "execute_result"
    }
   ],
   "source": [
    "df_final.head()"
   ]
  },
  {
   "cell_type": "markdown",
   "metadata": {},
   "source": [
    "c)Produce three graphs. The first graph should be comparable to the **RIDGE** graph in Question 2c. The second graph should be comparable to the **LASSO** graph in Question 3a. Third, plot a heatmap for this forecasting problem using **RandomForestRegressor**, comparable to Question 4. Do you keep the same cross validator as before?\n"
   ]
  },
  {
   "cell_type": "code",
   "execution_count": 40,
   "metadata": {},
   "outputs": [],
   "source": [
    "#Train/test split application\n",
    "#_ts stands for timeseries...\n",
    "from sklearn.model_selection import train_test_split\n",
    "y_avg_ret_ts = df_final['RET_shifted'] #vector of dependent label... \n",
    "X_avg_ret_ts = df_final[df_final.columns[5:47]] # matrix of 42 predictors...\n",
    "\n",
    "X_train, X_test, y_train, y_test = train_test_split(X_avg_ret_ts, y_avg_ret_ts, random_state=5)"
   ]
  },
  {
   "cell_type": "code",
   "execution_count": 41,
   "metadata": {},
   "outputs": [],
   "source": [
    "#Transforming data prior to fitting a RIDGE regression... \n",
    "from sklearn.preprocessing import MinMaxScaler\n",
    "scaler = MinMaxScaler()\n",
    "# Applying scaling to BOTH test and train sets.... very important.. \n",
    "X_train_scaled = scaler.fit_transform(X_train)\n",
    "X_test_scaled = scaler.transform(X_test)"
   ]
  },
  {
   "cell_type": "code",
   "execution_count": 42,
   "metadata": {},
   "outputs": [
    {
     "name": "stdout",
     "output_type": "stream",
     "text": [
      "{'alpha': 0.01}\n",
      "-0.0011249245005767157\n"
     ]
    }
   ],
   "source": [
    "#Ridge regression fit for predictors... \n",
    "#Conducting the grid search with 20 values for alpha RMSE... \n",
    "#Ridge Root mean squared error grid search CV \n",
    "from sklearn.model_selection import GridSearchCV\n",
    "model_ts = Ridge()\n",
    "alpha_param_range_ts = {'alpha':[0.01, 0.04, 0.08, 0.12, 0.16, 0.2 , 0.24, 0.28, 0.320, 0.48, 0.52, 0.56, 0.6 , 0.64, 0.68, 0.72, 0.76,0.88, 0.92, 0.96]}\n",
    "ridge_reg_rmse_ts = GridSearchCV(model_ts,alpha_param_range_ts,scoring = 'neg_root_mean_squared_error' , cv = 5)\n",
    "#Fit the grid search...\n",
    "ridge_reg_rmse_ts.fit(X_train_scaled,y_train)\n",
    "#Print best alpha parameter and best score \n",
    "print(ridge_reg_rmse_ts.best_params_)\n",
    "print(ridge_reg_rmse_ts.best_score_)\n",
    "\n",
    "\n",
    "\n"
   ]
  },
  {
   "cell_type": "code",
   "execution_count": 43,
   "metadata": {},
   "outputs": [
    {
     "data": {
      "image/png": "[encoded data removed]",
      "text/plain": [
       "<Figure size 432x288 with 1 Axes>"
      ]
     },
     "metadata": {
      "needs_background": "light"
     },
     "output_type": "display_data"
    }
   ],
   "source": [
    "#Putting ridge RMSE in dataframe and plotting... \n",
    "ridge_reg_rmse_ts = pd.DataFrame(ridge_reg_rmse_ts.cv_results_)\n",
    "ridge_reg_rmse_ts['alpha_range'] = [0.01, 0.04, 0.08, 0.12, 0.16, 0.2 , 0.24, 0.28, 0.320, 0.48, 0.52, 0.56, 0.6 , 0.64, 0.68, 0.72, 0.76,0.88, 0.92, 0.96]\n",
    "#ridge_reg_rmse_ts[['alpha_range','mean_test_score']]\n",
    "#Plot of sr_rmse_ridge\n",
    "plt.plot(ridge_reg_rmse_ts['alpha_range'],ridge_reg_rmse_ts['mean_test_score'] , label = 'RMSE')\n",
    "plt.xlabel('alpha')\n",
    "plt.ylabel('score')\n",
    "plt.legend()\n",
    "plt.show()"
   ]
  },
  {
   "cell_type": "code",
   "execution_count": 44,
   "metadata": {},
   "outputs": [
    {
     "name": "stdout",
     "output_type": "stream",
     "text": [
      "{'alpha': 0.01}\n",
      "-0.0004943443290044546\n"
     ]
    }
   ],
   "source": [
    "#Conducting the grid search with 20 values for alpha MAE... \n",
    "# Ridge Median Absolute Error GridSearch CV \n",
    "from sklearn.model_selection import GridSearchCV\n",
    "model_ts = Ridge()\n",
    "alpha_param_range = {'alpha':[0.01, 0.04, 0.08, 0.12, 0.16, 0.2 , 0.24, 0.28, 0.320, 0.48, 0.52, 0.56, 0.6 , 0.64, 0.68, 0.72, 0.76,0.88, 0.92, 0.96]}\n",
    "ridge_reg_mae_ts = GridSearchCV(model_ts,alpha_param_range,scoring = \"neg_median_absolute_error\" , cv = 5)\n",
    "ridge_reg_mae_ts.fit(X_train_scaled,y_train)\n",
    "#Print best alpha parameter and best score \n",
    "print(ridge_reg_mae_ts.best_params_)\n",
    "print(ridge_reg_mae_ts.best_score_)\n"
   ]
  },
  {
   "cell_type": "code",
   "execution_count": 45,
   "metadata": {},
   "outputs": [
    {
     "data": {
      "image/png": "[encoded data removed]",
      "text/plain": [
       "<Figure size 432x288 with 1 Axes>"
      ]
     },
     "metadata": {
      "needs_background": "light"
     },
     "output_type": "display_data"
    }
   ],
   "source": [
    "#Putting ridge MAE in dataframe...\n",
    "ridge_reg_mae_ts = pd.DataFrame(ridge_reg_mae_ts.cv_results_)\n",
    "ridge_reg_mae_ts['alpha_range'] = [0.01, 0.04, 0.08, 0.12, 0.16, 0.2 , 0.24, 0.28, 0.320, 0.48, 0.52, 0.56, 0.6 , 0.64, 0.68, 0.72, 0.76,0.88, 0.92, 0.96]\n",
    "#ridge_reg_mae_ts[['alpha_range','mean_test_score']]\n",
    "#Plot of sr_mae_ridge\n",
    "plt.plot(ridge_reg_mae_ts['alpha_range'],ridge_reg_mae_ts['mean_test_score'] , label = \"mae\")\n",
    "plt.xlabel('alpha')\n",
    "plt.ylabel('score')\n",
    "plt.legend()\n",
    "plt.show()"
   ]
  },
  {
   "cell_type": "code",
   "execution_count": 46,
   "metadata": {},
   "outputs": [
    {
     "data": {
      "image/png": "[encoded data removed]",
      "text/plain": [
       "<Figure size 432x288 with 1 Axes>"
      ]
     },
     "metadata": {
      "needs_background": "light"
     },
     "output_type": "display_data"
    }
   ],
   "source": [
    "#Comparative plot of Ridge Regression for RMSE & MAE\n",
    "plt.plot(ridge_reg_mae_ts['alpha_range'],ridge_reg_mae_ts['mean_test_score'] , label = \"mae\")\n",
    "plt.plot(ridge_reg_rmse_ts['alpha_range'],ridge_reg_rmse_ts['mean_test_score'] , label = \"rmse\")\n",
    "plt.xlabel('alpha')\n",
    "plt.ylabel('score')\n",
    "plt.title('Comparative Ridge Regression for Factor Predictors')\n",
    "plt.legend()\n",
    "plt.show()"
   ]
  },
  {
   "cell_type": "code",
   "execution_count": 47,
   "metadata": {},
   "outputs": [
    {
     "name": "stderr",
     "output_type": "stream",
     "text": [
      "C:\\Users\\pmasi\\anaconda3\\lib\\site-packages\\sklearn\\model_selection\\_validation.py:593: UserWarning: With alpha=0, this algorithm does not converge well. You are advised to use the LinearRegression estimator\n",
      "  estimator.fit(X_train, y_train, **fit_params)\n",
      "C:\\Users\\pmasi\\anaconda3\\lib\\site-packages\\sklearn\\linear_model\\_coordinate_descent.py:532: UserWarning: Coordinate descent with no regularization may lead to unexpected results and is discouraged.\n",
      "  positive)\n",
      "C:\\Users\\pmasi\\anaconda3\\lib\\site-packages\\sklearn\\model_selection\\_validation.py:593: UserWarning: With alpha=0, this algorithm does not converge well. You are advised to use the LinearRegression estimator\n",
      "  estimator.fit(X_train, y_train, **fit_params)\n",
      "C:\\Users\\pmasi\\anaconda3\\lib\\site-packages\\sklearn\\linear_model\\_coordinate_descent.py:532: UserWarning: Coordinate descent with no regularization may lead to unexpected results and is discouraged.\n",
      "  positive)\n",
      "C:\\Users\\pmasi\\anaconda3\\lib\\site-packages\\sklearn\\model_selection\\_validation.py:593: UserWarning: With alpha=0, this algorithm does not converge well. You are advised to use the LinearRegression estimator\n",
      "  estimator.fit(X_train, y_train, **fit_params)\n",
      "C:\\Users\\pmasi\\anaconda3\\lib\\site-packages\\sklearn\\linear_model\\_coordinate_descent.py:532: UserWarning: Coordinate descent with no regularization may lead to unexpected results and is discouraged.\n",
      "  positive)\n",
      "C:\\Users\\pmasi\\anaconda3\\lib\\site-packages\\sklearn\\model_selection\\_validation.py:593: UserWarning: With alpha=0, this algorithm does not converge well. You are advised to use the LinearRegression estimator\n",
      "  estimator.fit(X_train, y_train, **fit_params)\n",
      "C:\\Users\\pmasi\\anaconda3\\lib\\site-packages\\sklearn\\linear_model\\_coordinate_descent.py:532: UserWarning: Coordinate descent with no regularization may lead to unexpected results and is discouraged.\n",
      "  positive)\n",
      "C:\\Users\\pmasi\\anaconda3\\lib\\site-packages\\sklearn\\model_selection\\_validation.py:593: UserWarning: With alpha=0, this algorithm does not converge well. You are advised to use the LinearRegression estimator\n",
      "  estimator.fit(X_train, y_train, **fit_params)\n",
      "C:\\Users\\pmasi\\anaconda3\\lib\\site-packages\\sklearn\\linear_model\\_coordinate_descent.py:532: UserWarning: Coordinate descent with no regularization may lead to unexpected results and is discouraged.\n",
      "  positive)\n"
     ]
    },
    {
     "name": "stdout",
     "output_type": "stream",
     "text": [
      "{'alpha': 0.0}\n",
      "-0.0003418429140609229\n"
     ]
    },
    {
     "name": "stderr",
     "output_type": "stream",
     "text": [
      "C:\\Users\\pmasi\\anaconda3\\lib\\site-packages\\sklearn\\model_selection\\_search.py:880: UserWarning: With alpha=0, this algorithm does not converge well. You are advised to use the LinearRegression estimator\n",
      "  self.best_estimator_.fit(X, y, **fit_params)\n",
      "C:\\Users\\pmasi\\anaconda3\\lib\\site-packages\\sklearn\\linear_model\\_coordinate_descent.py:532: UserWarning: Coordinate descent with no regularization may lead to unexpected results and is discouraged.\n",
      "  positive)\n"
     ]
    }
   ],
   "source": [
    "#Lasso regression fit for predictors... \n",
    "#Conducting the grid search with 20 values for alpha RMSE... \n",
    "# Lasso Root Mean Squared Error GridSearch CV \n",
    "from sklearn.linear_model import Lasso \n",
    "model_lasso_ts = Lasso()\n",
    "#Adjusted alpha to reflect lower range (to find optimal alpha) compared to ridge...\n",
    "alpha_param_range_l_ts = {'alpha':[0.    , 0.0001, 0.0002, 0.0003, 0.0004, 0.0005, 0.0006, 0.0007,\n",
    "       0.0008, 0.0009, 0.001 , 0.0011, 0.0012, 0.0013, 0.0014, 0.0015,\n",
    "       0.0016, 0.0017, 0.0018, 0.0019]}\n",
    "lasso_reg_rmse_ts = GridSearchCV(model_lasso_ts,alpha_param_range_l_ts,scoring = \"neg_root_mean_squared_error\" , cv = 5)\n",
    "lasso_reg_rmse_ts.fit(X_train_scaled,y_train)\n",
    "#Print best alpha parameter and best score \n",
    "print(lasso_reg_rmse_ts.best_params_)\n",
    "print(lasso_reg_rmse_ts.best_score_)"
   ]
  },
  {
   "cell_type": "code",
   "execution_count": 48,
   "metadata": {},
   "outputs": [
    {
     "data": {
      "image/png": "[encoded data removed]",
      "text/plain": [
       "<Figure size 432x288 with 1 Axes>"
      ]
     },
     "metadata": {
      "needs_background": "light"
     },
     "output_type": "display_data"
    }
   ],
   "source": [
    "#Putting lasso results in dataframe and plotting.. \n",
    "lasso_reg_rmse_ts = pd.DataFrame(lasso_reg_rmse_ts.cv_results_)\n",
    "lasso_reg_rmse_ts['alpha_range'] = [0.    , 0.0001, 0.0002, 0.0003, 0.0004, 0.0005, 0.0006, 0.0007,\n",
    "       0.0008, 0.0009, 0.001 , 0.0011, 0.0012, 0.0013, 0.0014, 0.0015,\n",
    "       0.0016, 0.0017, 0.0018, 0.0019]\n",
    "#lasso_reg_rmse_ts[['alpha_range','mean_test_score']]\n",
    "#Plot of sr_rmse_lasso\n",
    "plt.plot(lasso_reg_rmse_ts['alpha_range'],lasso_reg_rmse_ts['mean_test_score'] , label = 'RMSE')\n",
    "plt.legend()\n",
    "plt.show()"
   ]
  },
  {
   "cell_type": "code",
   "execution_count": 49,
   "metadata": {
    "scrolled": true
   },
   "outputs": [
    {
     "name": "stderr",
     "output_type": "stream",
     "text": [
      "C:\\Users\\pmasi\\anaconda3\\lib\\site-packages\\sklearn\\model_selection\\_validation.py:593: UserWarning: With alpha=0, this algorithm does not converge well. You are advised to use the LinearRegression estimator\n",
      "  estimator.fit(X_train, y_train, **fit_params)\n",
      "C:\\Users\\pmasi\\anaconda3\\lib\\site-packages\\sklearn\\linear_model\\_coordinate_descent.py:532: UserWarning: Coordinate descent with no regularization may lead to unexpected results and is discouraged.\n",
      "  positive)\n",
      "C:\\Users\\pmasi\\anaconda3\\lib\\site-packages\\sklearn\\model_selection\\_validation.py:593: UserWarning: With alpha=0, this algorithm does not converge well. You are advised to use the LinearRegression estimator\n",
      "  estimator.fit(X_train, y_train, **fit_params)\n",
      "C:\\Users\\pmasi\\anaconda3\\lib\\site-packages\\sklearn\\linear_model\\_coordinate_descent.py:532: UserWarning: Coordinate descent with no regularization may lead to unexpected results and is discouraged.\n",
      "  positive)\n",
      "C:\\Users\\pmasi\\anaconda3\\lib\\site-packages\\sklearn\\model_selection\\_validation.py:593: UserWarning: With alpha=0, this algorithm does not converge well. You are advised to use the LinearRegression estimator\n",
      "  estimator.fit(X_train, y_train, **fit_params)\n",
      "C:\\Users\\pmasi\\anaconda3\\lib\\site-packages\\sklearn\\linear_model\\_coordinate_descent.py:532: UserWarning: Coordinate descent with no regularization may lead to unexpected results and is discouraged.\n",
      "  positive)\n",
      "C:\\Users\\pmasi\\anaconda3\\lib\\site-packages\\sklearn\\model_selection\\_validation.py:593: UserWarning: With alpha=0, this algorithm does not converge well. You are advised to use the LinearRegression estimator\n",
      "  estimator.fit(X_train, y_train, **fit_params)\n",
      "C:\\Users\\pmasi\\anaconda3\\lib\\site-packages\\sklearn\\linear_model\\_coordinate_descent.py:532: UserWarning: Coordinate descent with no regularization may lead to unexpected results and is discouraged.\n",
      "  positive)\n",
      "C:\\Users\\pmasi\\anaconda3\\lib\\site-packages\\sklearn\\model_selection\\_validation.py:593: UserWarning: With alpha=0, this algorithm does not converge well. You are advised to use the LinearRegression estimator\n",
      "  estimator.fit(X_train, y_train, **fit_params)\n",
      "C:\\Users\\pmasi\\anaconda3\\lib\\site-packages\\sklearn\\linear_model\\_coordinate_descent.py:532: UserWarning: Coordinate descent with no regularization may lead to unexpected results and is discouraged.\n",
      "  positive)\n"
     ]
    },
    {
     "name": "stdout",
     "output_type": "stream",
     "text": [
      "{'alpha': 0.0}\n",
      "-0.00016384366698405368\n"
     ]
    },
    {
     "name": "stderr",
     "output_type": "stream",
     "text": [
      "C:\\Users\\pmasi\\anaconda3\\lib\\site-packages\\sklearn\\model_selection\\_search.py:880: UserWarning: With alpha=0, this algorithm does not converge well. You are advised to use the LinearRegression estimator\n",
      "  self.best_estimator_.fit(X, y, **fit_params)\n",
      "C:\\Users\\pmasi\\anaconda3\\lib\\site-packages\\sklearn\\linear_model\\_coordinate_descent.py:532: UserWarning: Coordinate descent with no regularization may lead to unexpected results and is discouraged.\n",
      "  positive)\n"
     ]
    }
   ],
   "source": [
    "#Conducting the grid search with 20 values for alpha MAE... \n",
    "# Lasso Median Absolute Error GridSearch CV \n",
    "model_lasso_ts = Lasso()\n",
    "alpha_param_range_l_ts = {'alpha':[0.    , 0.0001, 0.0002, 0.0003, 0.0004, 0.0005, 0.0006, 0.0007,\n",
    "       0.0008, 0.0009, 0.001 , 0.0011, 0.0012, 0.0013, 0.0014, 0.0015,\n",
    "       0.0016, 0.0017, 0.0018, 0.0019]}\n",
    "lasso_reg_mae_ts = GridSearchCV(model_lasso_ts,alpha_param_range_l_ts,scoring = \"neg_median_absolute_error\" , cv = 5)\n",
    "lasso_reg_mae_ts.fit(X_train_scaled,y_train)\n",
    "#Print best alpha parameter and best score \n",
    "print(lasso_reg_mae_ts.best_params_)\n",
    "print(lasso_reg_mae_ts.best_score_)"
   ]
  },
  {
   "cell_type": "code",
   "execution_count": 50,
   "metadata": {},
   "outputs": [
    {
     "data": {
      "image/png": "[encoded data removed]",
      "text/plain": [
       "<Figure size 432x288 with 1 Axes>"
      ]
     },
     "metadata": {
      "needs_background": "light"
     },
     "output_type": "display_data"
    }
   ],
   "source": [
    "#Putting results in dataframe and plotting... \n",
    "lasso_reg_mae_ts = pd.DataFrame(lasso_reg_mae_ts.cv_results_)\n",
    "lasso_reg_mae_ts['alpha_range'] = [0.    , 0.0001, 0.0002, 0.0003, 0.0004, 0.0005, 0.0006, 0.0007,\n",
    "       0.0008, 0.0009, 0.001 , 0.0011, 0.0012, 0.0013, 0.0014, 0.0015,\n",
    "       0.0016, 0.0017, 0.0018, 0.0019]\n",
    "#lasso_reg_mae_ts[['alpha_range','mean_test_score']]\n",
    "#Plot of sr_rmse_lasso\n",
    "plt.plot(lasso_reg_mae_ts['alpha_range'],lasso_reg_mae_ts['mean_test_score'] , label = 'MAE')\n",
    "plt.legend()\n",
    "plt.show()"
   ]
  },
  {
   "cell_type": "code",
   "execution_count": 51,
   "metadata": {},
   "outputs": [
    {
     "data": {
      "image/png": "[encoded data removed]",
      "text/plain": [
       "<Figure size 432x288 with 1 Axes>"
      ]
     },
     "metadata": {
      "needs_background": "light"
     },
     "output_type": "display_data"
    }
   ],
   "source": [
    "#Comparative plot of lasso regression on MAE & RMSE...\n",
    "plt.plot(lasso_reg_mae_ts['alpha_range'],lasso_reg_mae_ts['mean_test_score'] , label = \"mae\")\n",
    "plt.plot(lasso_reg_rmse_ts['alpha_range'],lasso_reg_rmse_ts['mean_test_score'] , label = \"rmse\")\n",
    "plt.xlabel('alpha')\n",
    "plt.ylabel('score')\n",
    "plt.title('Comparative Lasso Regression for Factor Predictors')\n",
    "plt.legend()\n",
    "plt.show()"
   ]
  },
  {
   "cell_type": "code",
   "execution_count": 52,
   "metadata": {},
   "outputs": [
    {
     "name": "stdout",
     "output_type": "stream",
     "text": [
      "Parameters currently in use:\n",
      "\n",
      "{'bootstrap': True, 'ccp_alpha': 0.0, 'criterion': 'mae', 'max_depth': None, 'max_features': 'auto', 'max_leaf_nodes': None, 'max_samples': None, 'min_impurity_decrease': 0.0, 'min_impurity_split': None, 'min_samples_leaf': 1, 'min_samples_split': 2, 'min_weight_fraction_leaf': 0.0, 'n_estimators': 100, 'n_jobs': None, 'oob_score': False, 'random_state': 4, 'verbose': 0, 'warm_start': False}\n"
     ]
    }
   ],
   "source": [
    "#RandomForest for factor predictors... \n",
    "from sklearn.ensemble import RandomForestRegressor\n",
    "rfr_model_ts = RandomForestRegressor(random_state = 4, criterion = 'mae')\n",
    "print('Parameters currently in use:\\n')\n",
    "print(rfr_model_ts.get_params())"
   ]
  },
  {
   "cell_type": "code",
   "execution_count": 53,
   "metadata": {},
   "outputs": [
    {
     "name": "stdout",
     "output_type": "stream",
     "text": [
      "Fitting 5 folds for each of 225 candidates, totalling 1125 fits\n",
      "{'max_depth': 7, 'max_features': 40}\n",
      "-0.013129045548012766\n"
     ]
    }
   ],
   "source": [
    "#Keep in mind the fit of this model takes around 3 min to calculate...\n",
    "from sklearn.model_selection import GridSearchCV\n",
    "#Select two hyperparameters and create parameter grid... \n",
    "param_grid_rf_ts = {\n",
    "    'max_depth': [1,2,5,7,9,10,20,25,28,30,35,40,45,50,55],\n",
    "    'max_features': [1,2,5,8,14,16,23,26,28,29,31,33,36,38,40]             }\n",
    "# Instantiate the grid search model\n",
    "rf_reg_mae_ts = GridSearchCV(estimator = rfr_model_ts, param_grid = param_grid_rf_ts, \n",
    "                          cv = 5, n_jobs = -1, verbose = 2 , scoring = \"neg_root_mean_squared_error\") ##Using RMSE...\n",
    "rf_reg_mae_ts.fit(X_train_scaled,y_train)\n",
    "\n",
    "print(rf_reg_mae_ts.best_params_)\n",
    "print(rf_reg_mae_ts.best_score_)"
   ]
  },
  {
   "cell_type": "code",
   "execution_count": 54,
   "metadata": {},
   "outputs": [
    {
     "data": {
      "text/html": [
       "<div>\n",
       "<style scoped>\n",
       "    .dataframe tbody tr th:only-of-type {\n",
       "        vertical-align: middle;\n",
       "    }\n",
       "\n",
       "    .dataframe tbody tr th {\n",
       "        vertical-align: top;\n",
       "    }\n",
       "\n",
       "    .dataframe thead tr th {\n",
       "        text-align: left;\n",
       "    }\n",
       "\n",
       "    .dataframe thead tr:last-of-type th {\n",
       "        text-align: right;\n",
       "    }\n",
       "</style>\n",
       "<table border=\"1\" class=\"dataframe\">\n",
       "  <thead>\n",
       "    <tr>\n",
       "      <th></th>\n",
       "      <th colspan=\"15\" halign=\"left\">mean_test_score</th>\n",
       "    </tr>\n",
       "    <tr>\n",
       "      <th>param_max_features</th>\n",
       "      <th>1</th>\n",
       "      <th>2</th>\n",
       "      <th>5</th>\n",
       "      <th>8</th>\n",
       "      <th>14</th>\n",
       "      <th>16</th>\n",
       "      <th>23</th>\n",
       "      <th>26</th>\n",
       "      <th>28</th>\n",
       "      <th>29</th>\n",
       "      <th>31</th>\n",
       "      <th>33</th>\n",
       "      <th>36</th>\n",
       "      <th>38</th>\n",
       "      <th>40</th>\n",
       "    </tr>\n",
       "    <tr>\n",
       "      <th>param_max_depth</th>\n",
       "      <th></th>\n",
       "      <th></th>\n",
       "      <th></th>\n",
       "      <th></th>\n",
       "      <th></th>\n",
       "      <th></th>\n",
       "      <th></th>\n",
       "      <th></th>\n",
       "      <th></th>\n",
       "      <th></th>\n",
       "      <th></th>\n",
       "      <th></th>\n",
       "      <th></th>\n",
       "      <th></th>\n",
       "      <th></th>\n",
       "    </tr>\n",
       "  </thead>\n",
       "  <tbody>\n",
       "    <tr>\n",
       "      <th>1</th>\n",
       "      <td>-0.054893</td>\n",
       "      <td>-0.054610</td>\n",
       "      <td>-0.051751</td>\n",
       "      <td>-0.049285</td>\n",
       "      <td>-0.045808</td>\n",
       "      <td>-0.045105</td>\n",
       "      <td>-0.041301</td>\n",
       "      <td>-0.039782</td>\n",
       "      <td>-0.039015</td>\n",
       "      <td>-0.038599</td>\n",
       "      <td>-0.037045</td>\n",
       "      <td>-0.035609</td>\n",
       "      <td>-0.034798</td>\n",
       "      <td>-0.034274</td>\n",
       "      <td>-0.033268</td>\n",
       "    </tr>\n",
       "    <tr>\n",
       "      <th>2</th>\n",
       "      <td>-0.054899</td>\n",
       "      <td>-0.054716</td>\n",
       "      <td>-0.050511</td>\n",
       "      <td>-0.046161</td>\n",
       "      <td>-0.040745</td>\n",
       "      <td>-0.038998</td>\n",
       "      <td>-0.031272</td>\n",
       "      <td>-0.029086</td>\n",
       "      <td>-0.028146</td>\n",
       "      <td>-0.027427</td>\n",
       "      <td>-0.026173</td>\n",
       "      <td>-0.024075</td>\n",
       "      <td>-0.021354</td>\n",
       "      <td>-0.021296</td>\n",
       "      <td>-0.019711</td>\n",
       "    </tr>\n",
       "    <tr>\n",
       "      <th>5</th>\n",
       "      <td>-0.053768</td>\n",
       "      <td>-0.052200</td>\n",
       "      <td>-0.043455</td>\n",
       "      <td>-0.039411</td>\n",
       "      <td>-0.029711</td>\n",
       "      <td>-0.028782</td>\n",
       "      <td>-0.020053</td>\n",
       "      <td>-0.019208</td>\n",
       "      <td>-0.017614</td>\n",
       "      <td>-0.017294</td>\n",
       "      <td>-0.016069</td>\n",
       "      <td>-0.015268</td>\n",
       "      <td>-0.014152</td>\n",
       "      <td>-0.013549</td>\n",
       "      <td>-0.013163</td>\n",
       "    </tr>\n",
       "    <tr>\n",
       "      <th>7</th>\n",
       "      <td>-0.053319</td>\n",
       "      <td>-0.051024</td>\n",
       "      <td>-0.042443</td>\n",
       "      <td>-0.037301</td>\n",
       "      <td>-0.029227</td>\n",
       "      <td>-0.027282</td>\n",
       "      <td>-0.019625</td>\n",
       "      <td>-0.018020</td>\n",
       "      <td>-0.017515</td>\n",
       "      <td>-0.016614</td>\n",
       "      <td>-0.015949</td>\n",
       "      <td>-0.015016</td>\n",
       "      <td>-0.013477</td>\n",
       "      <td>-0.013589</td>\n",
       "      <td>-0.013129</td>\n",
       "    </tr>\n",
       "    <tr>\n",
       "      <th>9</th>\n",
       "      <td>-0.053714</td>\n",
       "      <td>-0.050392</td>\n",
       "      <td>-0.041792</td>\n",
       "      <td>-0.036702</td>\n",
       "      <td>-0.028839</td>\n",
       "      <td>-0.026552</td>\n",
       "      <td>-0.019660</td>\n",
       "      <td>-0.018321</td>\n",
       "      <td>-0.016758</td>\n",
       "      <td>-0.016697</td>\n",
       "      <td>-0.015792</td>\n",
       "      <td>-0.015028</td>\n",
       "      <td>-0.013897</td>\n",
       "      <td>-0.013581</td>\n",
       "      <td>-0.013234</td>\n",
       "    </tr>\n",
       "    <tr>\n",
       "      <th>10</th>\n",
       "      <td>-0.054142</td>\n",
       "      <td>-0.050328</td>\n",
       "      <td>-0.041615</td>\n",
       "      <td>-0.037432</td>\n",
       "      <td>-0.029425</td>\n",
       "      <td>-0.027158</td>\n",
       "      <td>-0.019439</td>\n",
       "      <td>-0.018392</td>\n",
       "      <td>-0.016572</td>\n",
       "      <td>-0.016846</td>\n",
       "      <td>-0.015835</td>\n",
       "      <td>-0.014967</td>\n",
       "      <td>-0.013871</td>\n",
       "      <td>-0.013583</td>\n",
       "      <td>-0.013293</td>\n",
       "    </tr>\n",
       "    <tr>\n",
       "      <th>20</th>\n",
       "      <td>-0.053004</td>\n",
       "      <td>-0.050299</td>\n",
       "      <td>-0.041481</td>\n",
       "      <td>-0.037028</td>\n",
       "      <td>-0.029290</td>\n",
       "      <td>-0.027414</td>\n",
       "      <td>-0.019375</td>\n",
       "      <td>-0.018404</td>\n",
       "      <td>-0.016674</td>\n",
       "      <td>-0.016814</td>\n",
       "      <td>-0.015959</td>\n",
       "      <td>-0.014966</td>\n",
       "      <td>-0.013886</td>\n",
       "      <td>-0.013586</td>\n",
       "      <td>-0.013299</td>\n",
       "    </tr>\n",
       "    <tr>\n",
       "      <th>25</th>\n",
       "      <td>-0.053007</td>\n",
       "      <td>-0.050300</td>\n",
       "      <td>-0.041477</td>\n",
       "      <td>-0.037028</td>\n",
       "      <td>-0.029290</td>\n",
       "      <td>-0.027414</td>\n",
       "      <td>-0.019375</td>\n",
       "      <td>-0.018404</td>\n",
       "      <td>-0.016674</td>\n",
       "      <td>-0.016814</td>\n",
       "      <td>-0.015959</td>\n",
       "      <td>-0.014966</td>\n",
       "      <td>-0.013886</td>\n",
       "      <td>-0.013586</td>\n",
       "      <td>-0.013299</td>\n",
       "    </tr>\n",
       "    <tr>\n",
       "      <th>28</th>\n",
       "      <td>-0.053007</td>\n",
       "      <td>-0.050300</td>\n",
       "      <td>-0.041477</td>\n",
       "      <td>-0.037028</td>\n",
       "      <td>-0.029290</td>\n",
       "      <td>-0.027414</td>\n",
       "      <td>-0.019375</td>\n",
       "      <td>-0.018404</td>\n",
       "      <td>-0.016674</td>\n",
       "      <td>-0.016814</td>\n",
       "      <td>-0.015959</td>\n",
       "      <td>-0.014966</td>\n",
       "      <td>-0.013886</td>\n",
       "      <td>-0.013586</td>\n",
       "      <td>-0.013299</td>\n",
       "    </tr>\n",
       "    <tr>\n",
       "      <th>30</th>\n",
       "      <td>-0.053007</td>\n",
       "      <td>-0.050300</td>\n",
       "      <td>-0.041477</td>\n",
       "      <td>-0.037028</td>\n",
       "      <td>-0.029290</td>\n",
       "      <td>-0.027414</td>\n",
       "      <td>-0.019375</td>\n",
       "      <td>-0.018404</td>\n",
       "      <td>-0.016674</td>\n",
       "      <td>-0.016814</td>\n",
       "      <td>-0.015959</td>\n",
       "      <td>-0.014966</td>\n",
       "      <td>-0.013886</td>\n",
       "      <td>-0.013586</td>\n",
       "      <td>-0.013299</td>\n",
       "    </tr>\n",
       "    <tr>\n",
       "      <th>35</th>\n",
       "      <td>-0.053007</td>\n",
       "      <td>-0.050300</td>\n",
       "      <td>-0.041477</td>\n",
       "      <td>-0.037028</td>\n",
       "      <td>-0.029290</td>\n",
       "      <td>-0.027414</td>\n",
       "      <td>-0.019375</td>\n",
       "      <td>-0.018404</td>\n",
       "      <td>-0.016674</td>\n",
       "      <td>-0.016814</td>\n",
       "      <td>-0.015959</td>\n",
       "      <td>-0.014966</td>\n",
       "      <td>-0.013886</td>\n",
       "      <td>-0.013586</td>\n",
       "      <td>-0.013299</td>\n",
       "    </tr>\n",
       "    <tr>\n",
       "      <th>40</th>\n",
       "      <td>-0.053007</td>\n",
       "      <td>-0.050300</td>\n",
       "      <td>-0.041477</td>\n",
       "      <td>-0.037028</td>\n",
       "      <td>-0.029290</td>\n",
       "      <td>-0.027414</td>\n",
       "      <td>-0.019375</td>\n",
       "      <td>-0.018404</td>\n",
       "      <td>-0.016674</td>\n",
       "      <td>-0.016814</td>\n",
       "      <td>-0.015959</td>\n",
       "      <td>-0.014966</td>\n",
       "      <td>-0.013886</td>\n",
       "      <td>-0.013586</td>\n",
       "      <td>-0.013299</td>\n",
       "    </tr>\n",
       "    <tr>\n",
       "      <th>45</th>\n",
       "      <td>-0.053007</td>\n",
       "      <td>-0.050300</td>\n",
       "      <td>-0.041477</td>\n",
       "      <td>-0.037028</td>\n",
       "      <td>-0.029290</td>\n",
       "      <td>-0.027414</td>\n",
       "      <td>-0.019375</td>\n",
       "      <td>-0.018404</td>\n",
       "      <td>-0.016674</td>\n",
       "      <td>-0.016814</td>\n",
       "      <td>-0.015959</td>\n",
       "      <td>-0.014966</td>\n",
       "      <td>-0.013886</td>\n",
       "      <td>-0.013586</td>\n",
       "      <td>-0.013299</td>\n",
       "    </tr>\n",
       "    <tr>\n",
       "      <th>50</th>\n",
       "      <td>-0.053007</td>\n",
       "      <td>-0.050300</td>\n",
       "      <td>-0.041477</td>\n",
       "      <td>-0.037028</td>\n",
       "      <td>-0.029290</td>\n",
       "      <td>-0.027414</td>\n",
       "      <td>-0.019375</td>\n",
       "      <td>-0.018404</td>\n",
       "      <td>-0.016674</td>\n",
       "      <td>-0.016814</td>\n",
       "      <td>-0.015959</td>\n",
       "      <td>-0.014966</td>\n",
       "      <td>-0.013886</td>\n",
       "      <td>-0.013586</td>\n",
       "      <td>-0.013299</td>\n",
       "    </tr>\n",
       "    <tr>\n",
       "      <th>55</th>\n",
       "      <td>-0.053007</td>\n",
       "      <td>-0.050300</td>\n",
       "      <td>-0.041477</td>\n",
       "      <td>-0.037028</td>\n",
       "      <td>-0.029290</td>\n",
       "      <td>-0.027414</td>\n",
       "      <td>-0.019375</td>\n",
       "      <td>-0.018404</td>\n",
       "      <td>-0.016674</td>\n",
       "      <td>-0.016814</td>\n",
       "      <td>-0.015959</td>\n",
       "      <td>-0.014966</td>\n",
       "      <td>-0.013886</td>\n",
       "      <td>-0.013586</td>\n",
       "      <td>-0.013299</td>\n",
       "    </tr>\n",
       "  </tbody>\n",
       "</table>\n",
       "</div>"
      ],
      "text/plain": [
       "                   mean_test_score                                          \\\n",
       "param_max_features              1         2         5         8         14   \n",
       "param_max_depth                                                              \n",
       "1                        -0.054893 -0.054610 -0.051751 -0.049285 -0.045808   \n",
       "2                        -0.054899 -0.054716 -0.050511 -0.046161 -0.040745   \n",
       "5                        -0.053768 -0.052200 -0.043455 -0.039411 -0.029711   \n",
       "7                        -0.053319 -0.051024 -0.042443 -0.037301 -0.029227   \n",
       "9                        -0.053714 -0.050392 -0.041792 -0.036702 -0.028839   \n",
       "10                       -0.054142 -0.050328 -0.041615 -0.037432 -0.029425   \n",
       "20                       -0.053004 -0.050299 -0.041481 -0.037028 -0.029290   \n",
       "25                       -0.053007 -0.050300 -0.041477 -0.037028 -0.029290   \n",
       "28                       -0.053007 -0.050300 -0.041477 -0.037028 -0.029290   \n",
       "30                       -0.053007 -0.050300 -0.041477 -0.037028 -0.029290   \n",
       "35                       -0.053007 -0.050300 -0.041477 -0.037028 -0.029290   \n",
       "40                       -0.053007 -0.050300 -0.041477 -0.037028 -0.029290   \n",
       "45                       -0.053007 -0.050300 -0.041477 -0.037028 -0.029290   \n",
       "50                       -0.053007 -0.050300 -0.041477 -0.037028 -0.029290   \n",
       "55                       -0.053007 -0.050300 -0.041477 -0.037028 -0.029290   \n",
       "\n",
       "                                                                      \\\n",
       "param_max_features        16        23        26        28        29   \n",
       "param_max_depth                                                        \n",
       "1                  -0.045105 -0.041301 -0.039782 -0.039015 -0.038599   \n",
       "2                  -0.038998 -0.031272 -0.029086 -0.028146 -0.027427   \n",
       "5                  -0.028782 -0.020053 -0.019208 -0.017614 -0.017294   \n",
       "7                  -0.027282 -0.019625 -0.018020 -0.017515 -0.016614   \n",
       "9                  -0.026552 -0.019660 -0.018321 -0.016758 -0.016697   \n",
       "10                 -0.027158 -0.019439 -0.018392 -0.016572 -0.016846   \n",
       "20                 -0.027414 -0.019375 -0.018404 -0.016674 -0.016814   \n",
       "25                 -0.027414 -0.019375 -0.018404 -0.016674 -0.016814   \n",
       "28                 -0.027414 -0.019375 -0.018404 -0.016674 -0.016814   \n",
       "30                 -0.027414 -0.019375 -0.018404 -0.016674 -0.016814   \n",
       "35                 -0.027414 -0.019375 -0.018404 -0.016674 -0.016814   \n",
       "40                 -0.027414 -0.019375 -0.018404 -0.016674 -0.016814   \n",
       "45                 -0.027414 -0.019375 -0.018404 -0.016674 -0.016814   \n",
       "50                 -0.027414 -0.019375 -0.018404 -0.016674 -0.016814   \n",
       "55                 -0.027414 -0.019375 -0.018404 -0.016674 -0.016814   \n",
       "\n",
       "                                                                      \n",
       "param_max_features        31        33        36        38        40  \n",
       "param_max_depth                                                       \n",
       "1                  -0.037045 -0.035609 -0.034798 -0.034274 -0.033268  \n",
       "2                  -0.026173 -0.024075 -0.021354 -0.021296 -0.019711  \n",
       "5                  -0.016069 -0.015268 -0.014152 -0.013549 -0.013163  \n",
       "7                  -0.015949 -0.015016 -0.013477 -0.013589 -0.013129  \n",
       "9                  -0.015792 -0.015028 -0.013897 -0.013581 -0.013234  \n",
       "10                 -0.015835 -0.014967 -0.013871 -0.013583 -0.013293  \n",
       "20                 -0.015959 -0.014966 -0.013886 -0.013586 -0.013299  \n",
       "25                 -0.015959 -0.014966 -0.013886 -0.013586 -0.013299  \n",
       "28                 -0.015959 -0.014966 -0.013886 -0.013586 -0.013299  \n",
       "30                 -0.015959 -0.014966 -0.013886 -0.013586 -0.013299  \n",
       "35                 -0.015959 -0.014966 -0.013886 -0.013586 -0.013299  \n",
       "40                 -0.015959 -0.014966 -0.013886 -0.013586 -0.013299  \n",
       "45                 -0.015959 -0.014966 -0.013886 -0.013586 -0.013299  \n",
       "50                 -0.015959 -0.014966 -0.013886 -0.013586 -0.013299  \n",
       "55                 -0.015959 -0.014966 -0.013886 -0.013586 -0.013299  "
      ]
     },
     "execution_count": 54,
     "metadata": {},
     "output_type": "execute_result"
    }
   ],
   "source": [
    "#Visualize results of fit and include a matrix of two hyperparameters to be plotted using heatmap... \n",
    "df_rf_ts = pd.DataFrame(rf_reg_mae_ts.cv_results_)\n",
    "df_rf_sub_ts = df_rf_ts[['param_max_depth','param_max_features','mean_test_score']]\n",
    "#df_rf_sub_ts = df_rf_sub_ts.set_index('param_max_depth')\n",
    "df_rf_sub_ts.set_index('param_max_depth')\n",
    "df_rf_sub_ts= pd.pivot_table(df_rf_sub_ts, index = 'param_max_depth' , columns = ['param_max_features'] , aggfunc = max)\n",
    "df_rf_sub_ts"
   ]
  },
  {
   "cell_type": "code",
   "execution_count": 55,
   "metadata": {},
   "outputs": [
    {
     "data": {
      "text/plain": [
       "Text(33.0, 0.5, 'Max Depth')"
      ]
     },
     "execution_count": 55,
     "metadata": {},
     "output_type": "execute_result"
    },
    {
     "data": {
      "image/png": "[encoded data removed]",
      "text/plain": [
       "<Figure size 432x288 with 2 Axes>"
      ]
     },
     "metadata": {
      "needs_background": "light"
     },
     "output_type": "display_data"
    }
   ],
   "source": [
    "#Plot Hyperparameters max depth and max features to visualize grid results\n",
    "import seaborn as sns\n",
    "ax = sns.heatmap(df_rf_sub_ts)\n",
    "ax.set_title('RFR RMSE Performance based on Grid of Selected Hyperparameters')\n",
    "plt.xlabel('Features')\n",
    "plt.ylabel('Max Depth')"
   ]
  },
  {
   "cell_type": "markdown",
   "metadata": {},
   "source": [
    "d) Discuss your results of the RandomForestRegressor. Does it perform better than Ridge or Lasso for this forecasting problem? Why or why not?\n"
   ]
  },
  {
   "cell_type": "markdown",
   "metadata": {},
   "source": [
    "In this case, the RFR did not outperform neither the ridge nor the lasso models for forecasting returns based on factor characteristics. One possible explanation could be that when compared to firm characteristics, the optimal RFR utilized 10 more features (Q4) than in this exercise. In addition to that, it might also be the case that firm characteristics add more to the explanatory power of stock returns than traditional factor predictors considered in this question. "
   ]
  },
  {
   "cell_type": "markdown",
   "metadata": {},
   "source": [
    "e) Are the heatmaps from Question 4 and 5c different from each other? Are they comparable or entirely different? Explain your findings.\n"
   ]
  },
  {
   "cell_type": "markdown",
   "metadata": {},
   "source": [
    "My answer: \n",
    "\n",
    "The heatmap are somewhat comparable to results in question 4 in the sense that optimal (or close to optimal) RMSE scores based on number of features are skewed to the right on both maps. In other words, there lower number of features (say between 0 and 10 are associated with greater RMSE when compared to large amount of features. Also, the max depth on Q4's heatmap seems to exhibit higher RMSE scores between 0 and 8 trees versus lower scores when max depth is between 10 and 25. For Q5, max depth seems to be indifferent by the amount of trees, so the choice of grid range for the max_depth might not have been the optimal and should be further investigated to perhaps narrow down this range. \n"
   ]
  },
  {
   "cell_type": "markdown",
   "metadata": {},
   "source": [
    "# Bonus question [5P]\n",
    "Use any method you learned throughout the course and try to beat the best `RandomForestRegressor` from the previous question. Which model did you decide for and what motivated your choice? How much better does your model do in forecasting than the best `RandomForestRegressor`?\n",
    "\n",
    "**Note:** Bonus points will only be awarded if the forecasting results are **convincingly** better. "
   ]
  },
  {
   "cell_type": "markdown",
   "metadata": {},
   "source": [
    "<div style=\"color:blue; border-bottom: 7px solid rgba(0,0,255,.3); line-height:36pt; font-size:185.7%; font-weight:bold; padding-left:.3em;\">Answer</div>"
   ]
  },
  {
   "cell_type": "code",
   "execution_count": 56,
   "metadata": {},
   "outputs": [
    {
     "name": "stdout",
     "output_type": "stream",
     "text": [
      "Parameters currently in use:\n",
      "\n",
      "{'alpha': 0.9, 'ccp_alpha': 0.0, 'criterion': 'friedman_mse', 'init': None, 'learning_rate': 0.1, 'loss': 'ls', 'max_depth': 3, 'max_features': None, 'max_leaf_nodes': None, 'min_impurity_decrease': 0.0, 'min_impurity_split': None, 'min_samples_leaf': 1, 'min_samples_split': 2, 'min_weight_fraction_leaf': 0.0, 'n_estimators': 100, 'n_iter_no_change': None, 'random_state': 4, 'subsample': 1.0, 'tol': 0.0001, 'validation_fraction': 0.1, 'verbose': 0, 'warm_start': False}\n"
     ]
    }
   ],
   "source": [
    "#Gradient Booster Regressor for factor predictors... \n",
    "from sklearn.ensemble import GradientBoostingRegressor\n",
    "gbr_model_ts = GradientBoostingRegressor(random_state = 4)\n",
    "print('Parameters currently in use:\\n')\n",
    "print(gbr_model_ts.get_params())"
   ]
  },
  {
   "cell_type": "code",
   "execution_count": 57,
   "metadata": {},
   "outputs": [
    {
     "name": "stdout",
     "output_type": "stream",
     "text": [
      "Fitting 5 folds for each of 225 candidates, totalling 1125 fits\n",
      "{'max_depth': 1, 'max_features': 40}\n",
      "-0.010463984396242054\n"
     ]
    }
   ],
   "source": [
    "#Keep in mind the fit of this model takes around 1 min to calculate...\n",
    "from sklearn.model_selection import GridSearchCV\n",
    "#Select two hyperparameters and create parameter grid... \n",
    "param_grid_gbr_ts = {\n",
    "    'max_depth': [1,2,5,7,9,10,20,25,28,30,35,40,45,50,55],\n",
    "    'max_features': [1,2,5,8,14,16,23,26,28,29,31,33,36,38,40]             }\n",
    "# Instantiate the grid search model\n",
    "gbr_reg_rmse_ts = GridSearchCV(estimator = gbr_model_ts, param_grid = param_grid_gbr_ts, \n",
    "                          cv = 5, n_jobs = -1, verbose = 2 , scoring = \"neg_root_mean_squared_error\") ##Using RMSE...\n",
    "gbr_reg_rmse_ts.fit(X_train_scaled,y_train)\n",
    "\n",
    "print(gbr_reg_rmse_ts.best_params_)\n",
    "print(gbr_reg_rmse_ts.best_score_)"
   ]
  },
  {
   "cell_type": "markdown",
   "metadata": {},
   "source": [
    "My answer: \n",
    "\n",
    "In this section, I chose to use the Gradient Boosting Regressor to try and beat the Random Forest regressor and indeed it has beaten the random forest judging by the RMSE being closer to 0 on the gradient booster when compared to the random forest regressor "
   ]
  },
  {
   "cell_type": "markdown",
   "metadata": {},
   "source": [
    "<div style=\"font-size:250%; line-height:120%; padding: 50px 0 20px 0; border-bottom: 4px solid black;\">Part II: A critical view on machine learning</div>"
   ]
  },
  {
   "cell_type": "markdown",
   "metadata": {},
   "source": [
    "# Question 6 [10P]\n",
    "Different from grid search, parallelization can significantly speed up gradient descent optimization methods. However, a computer with four cores doesn’t necessarily lead to four times the speed of a single core.\n",
    "\n",
    "Do you agree with this statement? Provide your arguments and relate it to the grid search you did for `RandomForestRegressor` in Question 4.\n",
    "\n",
    "<span style='color:crimson; font-weight: bold'>Word limit = 200 words. </span>"
   ]
  },
  {
   "cell_type": "markdown",
   "metadata": {},
   "source": [
    "<div style=\"color:blue; border-bottom: 7px solid rgba(0,0,255,.3); line-height:36pt; font-size:185.7%; font-weight:bold; padding-left:.3em;\">Answer</div>"
   ]
  },
  {
   "cell_type": "markdown",
   "metadata": {},
   "source": [
    "I DO agree given we cannot apply parallelization on 100% of the code. There are certain parts of the code that cannot be done in paralell. In addition, parallelization refers to running more than one process at a time (or simultaneously running several processes). The cores of a computer are the chips that enable the processess to run,thus, the more cores you have the more parallelization you can have. Nevertheless, the parallelization speed is not proportional to the number of cores your computer has because there is also time spent on the interconection among these cores and it is also a function of the program you are ussing to run the system. Finding a program that achieves full paralellization can become very challenging, if not hardly achievable.  "
   ]
  },
  {
   "cell_type": "markdown",
   "metadata": {},
   "source": [
    "# Question 7 [10P]\n",
    "Splits in a decision tree are based on reducing impurity. Name and explain one of the three impurity measures we discussed. How can splitting the sample reduce the overall impurity? How did this influence your calculations for `RandomForestRegressor` in Question 4?\n",
    "\n",
    "<span style='color:crimson; font-weight: bold'>Word limit = 200 words. </span>"
   ]
  },
  {
   "cell_type": "markdown",
   "metadata": {},
   "source": [
    "<div style=\"color:blue; border-bottom: 7px solid rgba(0,0,255,.3); line-height:36pt; font-size:185.7%; font-weight:bold; padding-left:.3em;\">Answer</div>"
   ]
  },
  {
   "cell_type": "markdown",
   "metadata": {},
   "source": [
    "There are three impurity measures discussed in class. The GINI, ENTROPY and Information GAIN. I will focus on Entropy and Information Gain. \n",
    "Entropy is best explained as the amount of randomness or uncertainty in the sample data and it is bounded between 0 and 1. It is used to calculate the homogeneity of the sample in a specific node. The lowest the entropy (closer to 0), the more homogeneous (pure) the node, and the highest the node (closer to 1) the more heterogeneous (or equally divided between classes) \n",
    "Information Gain is explained as the information that increases the level of certainty after prunning or splitting. It is essentially the opposite of entropy given that as entropy decreases (increases), information gain increases (decreases). Information gain is calculated as the entropy before the split minus the weighted entropy after the split.. \n",
    "\n",
    "\n",
    "The objective of prediction based on a decision tree is to build a decision tree algorithm where branches are created based on features/attributes until all leaves remain pure (homogeneous class). Nevertheless, this inevitably leads to overfitting, so to prevent overfitting we need to SPLIT or PRUNE the tree. To do this I generally use the parameter \"maximum depth\" which limits the growth of the tree up to a predetermined value set by the user..\n",
    "In Q4, I have used the maximum depth parameter to conduct an exhaustive grid search to determine what was the optimal level of this hypeparameter in the RandomForestRegressor. Again, the reason why I chose this parameter is because I wanted to ensure I used the optimal level of max_depth so that my regression output did not exhibit OVERFITTING patterns.. \n"
   ]
  },
  {
   "cell_type": "markdown",
   "metadata": {},
   "source": [
    "# Question 8 [10P]\n",
    "What do we optimize in a regression problem versus a classification problem? Would it be wrong to calculate the `RandomForestClassifier` in Question 4? Argue why it could be useful or why not.\n",
    "\n",
    "<span style='color:crimson; font-weight: bold'>Word limit = 200 words. </span>"
   ]
  },
  {
   "cell_type": "markdown",
   "metadata": {},
   "source": [
    "<div style=\"color:blue; border-bottom: 7px solid rgba(0,0,255,.3); line-height:36pt; font-size:185.7%; font-weight:bold; padding-left:.3em;\">Answer</div>"
   ]
  },
  {
   "cell_type": "markdown",
   "metadata": {},
   "source": [
    "In a classification problem, the objective is to predict a label which can be a binary or multiclass label. In a regression problem, the objective is to predict a continuous value, so classification and regression have clearly different optimization objectives. \n",
    "It will NOT be wise to use the Random Forest CLASSIFIER in question 4 given that the dependent variable/label (i.e stock returns) is a continuous variable, NOT a binary/categorical label. Given this, using the RandomForestRegressor would be the correct way to approach the problem. \n",
    "\n",
    "Only if the dependent label were to be a binary or categorical class, a classifier algorithm (such as RandomForestClassifier) would be deemed appropiate.  \n"
   ]
  }
 ],
 "metadata": {
  "hide_input": false,
  "kernelspec": {
   "display_name": "Python 3",
   "language": "python",
   "name": "python3"
  },
  "language_info": {
   "codemirror_mode": {
    "name": "ipython",
    "version": 3
   },
   "file_extension": ".py",
   "mimetype": "text/x-python",
   "name": "python",
   "nbconvert_exporter": "python",
   "pygments_lexer": "ipython3",
   "version": "3.11.4"
  },
  "toc": {
   "base_numbering": 1,
   "nav_menu": {},
   "number_sections": false,
   "sideBar": true,
   "skip_h1_title": false,
   "title_cell": "Table of Contents",
   "title_sidebar": "Contents",
   "toc_cell": false,
   "toc_position": {},
   "toc_section_display": true,
   "toc_window_display": false
  }
 },
 "nbformat": 4,
 "nbformat_minor": 4
}
